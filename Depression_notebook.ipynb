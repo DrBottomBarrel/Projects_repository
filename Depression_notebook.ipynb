{
  "nbformat": 4,
  "nbformat_minor": 0,
  "metadata": {
    "colab": {
      "provenance": [],
      "mount_file_id": "1s5CG93Uyyc7rtO7cgk6lxzCcV1Vn3221",
      "authorship_tag": "ABX9TyMKMe9CcpFAFzXKOljqCqXx",
      "include_colab_link": true
    },
    "kernelspec": {
      "name": "python3",
      "display_name": "Python 3"
    },
    "language_info": {
      "name": "python"
    }
  },
  "cells": [
    {
      "cell_type": "markdown",
      "metadata": {
        "id": "view-in-github",
        "colab_type": "text"
      },
      "source": [
        "<a href=\"https://colab.research.google.com/github/DrBottomBarrel/Projects_repository/blob/main/Depression_notebook.ipynb\" target=\"_parent\"><img src=\"https://colab.research.google.com/assets/colab-badge.svg\" alt=\"Open In Colab\"/></a>"
      ]
    },
    {
      "cell_type": "code",
      "execution_count": 1,
      "metadata": {
        "id": "j8XnOLq8fBF5",
        "colab": {
          "base_uri": "https://localhost:8080/"
        },
        "outputId": "22761924-099e-46e6-f4a0-569a73b8ab5c"
      },
      "outputs": [
        {
          "output_type": "stream",
          "name": "stdout",
          "text": [
            "Drive already mounted at /content/drive; to attempt to forcibly remount, call drive.mount(\"/content/drive\", force_remount=True).\n"
          ]
        }
      ],
      "source": [
        "from google.colab import drive\n",
        "drive.mount('/content/drive')\n",
        "import pandas as pd\n",
        "import numpy as np\n",
        "import tensorflow as tf\n",
        "from tensorflow.keras.models import Model\n",
        "from tensorflow.keras.layers import Input, Dense\n",
        "\n",
        "df = pd.read_csv('/content/drive/MyDrive/datasets/depression_data.csv')\n",
        "df_new = df.copy()\n",
        "\n"
      ]
    },
    {
      "cell_type": "code",
      "source": [
        "print(df_new.isnull().sum())\n",
        "\n",
        "# There are no empty data-cells in the dataframe\n",
        "# But just to be sure let's drop the empty rows if they exist\n",
        "\n",
        "df_new.dropna(inplace=True, axis=0)"
      ],
      "metadata": {
        "colab": {
          "base_uri": "https://localhost:8080/"
        },
        "id": "PlgMl6PciRt9",
        "outputId": "8dafbe0e-8410-4e63-ae5a-67949efb3280"
      },
      "execution_count": 2,
      "outputs": [
        {
          "output_type": "stream",
          "name": "stdout",
          "text": [
            "Name                            0\n",
            "Age                             0\n",
            "Marital Status                  0\n",
            "Education Level                 0\n",
            "Number of Children              0\n",
            "Smoking Status                  0\n",
            "Physical Activity Level         0\n",
            "Employment Status               0\n",
            "Income                          0\n",
            "Alcohol Consumption             0\n",
            "Dietary Habits                  0\n",
            "Sleep Patterns                  0\n",
            "History of Mental Illness       0\n",
            "History of Substance Abuse      0\n",
            "Family History of Depression    0\n",
            "Chronic Medical Conditions      0\n",
            "dtype: int64\n"
          ]
        }
      ]
    },
    {
      "cell_type": "markdown",
      "source": [
        "Now I am kind of stuck on what to do next\n",
        "But Let me look at the descriptive statistics to decide what to do next.\n",
        "\n",
        ">Well the dataset is already clean and organised hurray, so let's bin\n",
        "\n",
        "\n",
        "we'll bin the income."
      ],
      "metadata": {
        "id": "Fj3eThTx4mZ5"
      }
    },
    {
      "cell_type": "code",
      "source": [
        "print(df_new.columns)\n",
        "print(df_new.describe())\n",
        "print(df_new.info())"
      ],
      "metadata": {
        "colab": {
          "base_uri": "https://localhost:8080/"
        },
        "id": "6qRqpviu5V1Z",
        "outputId": "19483e3d-e527-4ccd-b2a9-fa7b0d7c9b33"
      },
      "execution_count": 3,
      "outputs": [
        {
          "output_type": "stream",
          "name": "stdout",
          "text": [
            "Index(['Name', 'Age', 'Marital Status', 'Education Level',\n",
            "       'Number of Children', 'Smoking Status', 'Physical Activity Level',\n",
            "       'Employment Status', 'Income', 'Alcohol Consumption', 'Dietary Habits',\n",
            "       'Sleep Patterns', 'History of Mental Illness',\n",
            "       'History of Substance Abuse', 'Family History of Depression',\n",
            "       'Chronic Medical Conditions'],\n",
            "      dtype='object')\n",
            "                 Age  Number of Children         Income\n",
            "count  413768.000000       413768.000000  413768.000000\n",
            "mean       49.000713            1.298972   50661.707971\n",
            "std        18.158759            1.237054   40624.100565\n",
            "min        18.000000            0.000000       0.410000\n",
            "25%        33.000000            0.000000   21001.030000\n",
            "50%        49.000000            1.000000   37520.135000\n",
            "75%        65.000000            2.000000   76616.300000\n",
            "max        80.000000            4.000000  209995.220000\n",
            "<class 'pandas.core.frame.DataFrame'>\n",
            "RangeIndex: 413768 entries, 0 to 413767\n",
            "Data columns (total 16 columns):\n",
            " #   Column                        Non-Null Count   Dtype  \n",
            "---  ------                        --------------   -----  \n",
            " 0   Name                          413768 non-null  object \n",
            " 1   Age                           413768 non-null  int64  \n",
            " 2   Marital Status                413768 non-null  object \n",
            " 3   Education Level               413768 non-null  object \n",
            " 4   Number of Children            413768 non-null  int64  \n",
            " 5   Smoking Status                413768 non-null  object \n",
            " 6   Physical Activity Level       413768 non-null  object \n",
            " 7   Employment Status             413768 non-null  object \n",
            " 8   Income                        413768 non-null  float64\n",
            " 9   Alcohol Consumption           413768 non-null  object \n",
            " 10  Dietary Habits                413768 non-null  object \n",
            " 11  Sleep Patterns                413768 non-null  object \n",
            " 12  History of Mental Illness     413768 non-null  object \n",
            " 13  History of Substance Abuse    413768 non-null  object \n",
            " 14  Family History of Depression  413768 non-null  object \n",
            " 15  Chronic Medical Conditions    413768 non-null  object \n",
            "dtypes: float64(1), int64(2), object(13)\n",
            "memory usage: 50.5+ MB\n",
            "None\n"
          ]
        }
      ]
    },
    {
      "cell_type": "code",
      "source": [
        "income_bins = np.linspace(min(df_new['Income']), max(df_new['Income']), 4)\n",
        "bin_names = ['poor', 'middle_class', 'rich']\n",
        "df_new['binned_income'] = pd.cut(df_new['Income'], bins=income_bins, labels=bin_names, include_lowest=True)\n",
        "\n",
        "pd.set_option('display.max_columns', None)    # so that I can see all my columns in the python shell\n",
        "# print(df_new.head())\n",
        "df_new.rename(columns={'binned_income': 'status'}, inplace=True)\n",
        "# print(df_new.head())"
      ],
      "metadata": {
        "id": "Tz-MoKfIiTP0"
      },
      "execution_count": 4,
      "outputs": []
    },
    {
      "cell_type": "markdown",
      "source": [
        "I would normally start creating visualizations about now, but I am leaning toward statistical\n",
        "analysis and modeling since I don't understand the dataset very much (it's also faster) because I understand the numbers\n",
        "better.\n",
        "First, let's save this dataframe for the visualization aspect we will cover after we are done with the model"
      ],
      "metadata": {
        "id": "kV5VhA_khD4A"
      }
    },
    {
      "cell_type": "code",
      "source": [
        "df_new.to_csv('/content/drive/MyDrive/datasets/visualization_data.csv', index=False)\n",
        "\n",
        "# now we go to modelling\n",
        "df_model = df_new.copy()\n",
        "\n",
        "del df_new #to save space\n",
        "\n",
        "# let's convert all our categorical data columns to numeric data columns\n",
        "# df_model.info()\n",
        "cat_columns = ['Marital Status', 'Education Level', 'Smoking Status',\n",
        "               'Physical Activity Level', 'Employment Status', 'Alcohol Consumption',\n",
        "               'Dietary Habits', 'Sleep Patterns', 'History of Mental Illness',\n",
        "               'History of Substance Abuse', 'Family History of Depression',\n",
        "               'Chronic Medical Conditions', 'status']\n",
        "\n",
        "cat_num = pd.get_dummies(df_model, columns=cat_columns)\n",
        "print(cat_num.head())\n",
        "\n",
        "# now we delete the 'df_model' dataframe to save space\n",
        "del df_model\n"
      ],
      "metadata": {
        "colab": {
          "base_uri": "https://localhost:8080/"
        },
        "id": "JOkYWgFlihi5",
        "outputId": "304c3e46-7df5-4c44-f030-593a673b2cdb"
      },
      "execution_count": 5,
      "outputs": [
        {
          "output_type": "stream",
          "name": "stdout",
          "text": [
            "               Name  Age  Number of Children     Income  \\\n",
            "0  Christine Barker   31                   2   26265.67   \n",
            "1  Jacqueline Lewis   55                   1   42710.36   \n",
            "2    Shannon Church   78                   1  125332.79   \n",
            "3    Charles Jordan   58                   3    9992.78   \n",
            "4      Michael Rich   18                   0    8595.08   \n",
            "\n",
            "   Marital Status_Divorced  Marital Status_Married  Marital Status_Single  \\\n",
            "0                    False                    True                  False   \n",
            "1                    False                    True                  False   \n",
            "2                    False                   False                  False   \n",
            "3                     True                   False                  False   \n",
            "4                    False                   False                   True   \n",
            "\n",
            "   Marital Status_Widowed  Education Level_Associate Degree  \\\n",
            "0                   False                             False   \n",
            "1                   False                             False   \n",
            "2                    True                             False   \n",
            "3                   False                             False   \n",
            "4                   False                             False   \n",
            "\n",
            "   Education Level_Bachelor's Degree  Education Level_High School  \\\n",
            "0                               True                        False   \n",
            "1                              False                         True   \n",
            "2                              False                        False   \n",
            "3                              False                        False   \n",
            "4                              False                         True   \n",
            "\n",
            "   Education Level_Master's Degree  Education Level_PhD  \\\n",
            "0                            False                False   \n",
            "1                            False                False   \n",
            "2                             True                False   \n",
            "3                             True                False   \n",
            "4                            False                False   \n",
            "\n",
            "   Smoking Status_Current  Smoking Status_Former  Smoking Status_Non-smoker  \\\n",
            "0                   False                  False                       True   \n",
            "1                   False                  False                       True   \n",
            "2                   False                  False                       True   \n",
            "3                   False                  False                       True   \n",
            "4                   False                  False                       True   \n",
            "\n",
            "   Physical Activity Level_Active  Physical Activity Level_Moderate  \\\n",
            "0                            True                             False   \n",
            "1                           False                             False   \n",
            "2                           False                             False   \n",
            "3                           False                              True   \n",
            "4                           False                             False   \n",
            "\n",
            "   Physical Activity Level_Sedentary  Employment Status_Employed  \\\n",
            "0                              False                       False   \n",
            "1                               True                        True   \n",
            "2                               True                        True   \n",
            "3                              False                       False   \n",
            "4                               True                       False   \n",
            "\n",
            "   Employment Status_Unemployed  Alcohol Consumption_High  \\\n",
            "0                          True                     False   \n",
            "1                         False                      True   \n",
            "2                         False                     False   \n",
            "3                          True                     False   \n",
            "4                          True                     False   \n",
            "\n",
            "   Alcohol Consumption_Low  Alcohol Consumption_Moderate  \\\n",
            "0                    False                          True   \n",
            "1                    False                         False   \n",
            "2                     True                         False   \n",
            "3                    False                          True   \n",
            "4                     True                         False   \n",
            "\n",
            "   Dietary Habits_Healthy  Dietary Habits_Moderate  Dietary Habits_Unhealthy  \\\n",
            "0                   False                     True                     False   \n",
            "1                   False                    False                      True   \n",
            "2                   False                    False                      True   \n",
            "3                   False                     True                     False   \n",
            "4                   False                     True                     False   \n",
            "\n",
            "   Sleep Patterns_Fair  Sleep Patterns_Good  Sleep Patterns_Poor  \\\n",
            "0                 True                False                False   \n",
            "1                 True                False                False   \n",
            "2                False                 True                False   \n",
            "3                False                False                 True   \n",
            "4                 True                False                False   \n",
            "\n",
            "   History of Mental Illness_No  History of Mental Illness_Yes  \\\n",
            "0                         False                           True   \n",
            "1                         False                           True   \n",
            "2                          True                          False   \n",
            "3                          True                          False   \n",
            "4                         False                           True   \n",
            "\n",
            "   History of Substance Abuse_No  History of Substance Abuse_Yes  \\\n",
            "0                           True                           False   \n",
            "1                           True                           False   \n",
            "2                           True                           False   \n",
            "3                           True                           False   \n",
            "4                           True                           False   \n",
            "\n",
            "   Family History of Depression_No  Family History of Depression_Yes  \\\n",
            "0                            False                              True   \n",
            "1                             True                             False   \n",
            "2                            False                              True   \n",
            "3                             True                             False   \n",
            "4                            False                              True   \n",
            "\n",
            "   Chronic Medical Conditions_No  Chronic Medical Conditions_Yes  status_poor  \\\n",
            "0                          False                            True         True   \n",
            "1                          False                            True         True   \n",
            "2                           True                           False        False   \n",
            "3                           True                           False         True   \n",
            "4                          False                            True         True   \n",
            "\n",
            "   status_middle_class  status_rich  \n",
            "0                False        False  \n",
            "1                False        False  \n",
            "2                 True        False  \n",
            "3                False        False  \n",
            "4                False        False  \n"
          ]
        }
      ]
    },
    {
      "cell_type": "markdown",
      "source": [
        "This is the first time i am using tensorflow or doing deep learning\n",
        "Not my fault tho, the dataset has no obvious dependent variable i can use\n",
        "I will rely on chat gpt for this part"
      ],
      "metadata": {
        "id": "cFTXF7kJ7JGk"
      }
    },
    {
      "cell_type": "code",
      "source": [
        "data = cat_num.drop('Name', axis=1).values\n",
        "data = data.astype('float32')\n",
        "data = (data - data.mean(axis=0)) / data.std(axis=0)\n",
        "input_dim = data.shape[1]\n",
        "input_layer = Input(shape=(input_dim,))\n",
        "encoded = Dense(128, activation='relu')(input_layer)\n",
        "encoded = Dense(64, activation='relu')(encoded)\n",
        "encoded = Dense(32, activation='relu')(encoded)\n",
        "\n",
        "decoded = Dense(64, activation='relu')(encoded)\n",
        "decoded = Dense(128, activation='relu')(decoded)\n",
        "decoded = Dense(input_dim, activation='sigmoid')(decoded)\n",
        "\n",
        "autoencoder = Model(inputs=input_layer, outputs=decoded)\n",
        "autoencoder.compile(optimizer='adam', loss='mse')\n",
        "\n",
        "autoencoder.fit(data, data, epochs=50, batch_size=256, shuffle=True, validation_split=0.2)\n",
        "\n",
        "encoder = Model(input_layer, encoded)\n",
        "encoded_data = encoder.predict(data)\n",
        "\n",
        "print(encoded_data.shape)"
      ],
      "metadata": {
        "colab": {
          "base_uri": "https://localhost:8080/"
        },
        "id": "bSnKZVC4i5sA",
        "outputId": "c55b0cea-5ceb-44ba-d863-776d329b54a6"
      },
      "execution_count": 6,
      "outputs": [
        {
          "output_type": "stream",
          "name": "stdout",
          "text": [
            "Epoch 1/50\n",
            "\u001b[1m1294/1294\u001b[0m \u001b[32m━━━━━━━━━━━━━━━━━━━━\u001b[0m\u001b[37m\u001b[0m \u001b[1m11s\u001b[0m 7ms/step - loss: 0.8116 - val_loss: 0.7073\n",
            "Epoch 2/50\n",
            "\u001b[1m1294/1294\u001b[0m \u001b[32m━━━━━━━━━━━━━━━━━━━━\u001b[0m\u001b[37m\u001b[0m \u001b[1m7s\u001b[0m 5ms/step - loss: 0.7102 - val_loss: 0.6942\n",
            "Epoch 3/50\n",
            "\u001b[1m1294/1294\u001b[0m \u001b[32m━━━━━━━━━━━━━━━━━━━━\u001b[0m\u001b[37m\u001b[0m \u001b[1m8s\u001b[0m 6ms/step - loss: 0.6958 - val_loss: 0.6939\n",
            "Epoch 4/50\n",
            "\u001b[1m1294/1294\u001b[0m \u001b[32m━━━━━━━━━━━━━━━━━━━━\u001b[0m\u001b[37m\u001b[0m \u001b[1m8s\u001b[0m 6ms/step - loss: 0.6970 - val_loss: 0.6938\n",
            "Epoch 5/50\n",
            "\u001b[1m1294/1294\u001b[0m \u001b[32m━━━━━━━━━━━━━━━━━━━━\u001b[0m\u001b[37m\u001b[0m \u001b[1m9s\u001b[0m 5ms/step - loss: 0.6966 - val_loss: 0.6939\n",
            "Epoch 6/50\n",
            "\u001b[1m1294/1294\u001b[0m \u001b[32m━━━━━━━━━━━━━━━━━━━━\u001b[0m\u001b[37m\u001b[0m \u001b[1m9s\u001b[0m 7ms/step - loss: 0.6970 - val_loss: 0.6938\n",
            "Epoch 7/50\n",
            "\u001b[1m1294/1294\u001b[0m \u001b[32m━━━━━━━━━━━━━━━━━━━━\u001b[0m\u001b[37m\u001b[0m \u001b[1m7s\u001b[0m 5ms/step - loss: 0.6958 - val_loss: 0.6937\n",
            "Epoch 8/50\n",
            "\u001b[1m1294/1294\u001b[0m \u001b[32m━━━━━━━━━━━━━━━━━━━━\u001b[0m\u001b[37m\u001b[0m \u001b[1m11s\u001b[0m 9ms/step - loss: 0.6974 - val_loss: 0.6939\n",
            "Epoch 9/50\n",
            "\u001b[1m1294/1294\u001b[0m \u001b[32m━━━━━━━━━━━━━━━━━━━━\u001b[0m\u001b[37m\u001b[0m \u001b[1m16s\u001b[0m 5ms/step - loss: 0.6968 - val_loss: 0.6940\n",
            "Epoch 10/50\n",
            "\u001b[1m1294/1294\u001b[0m \u001b[32m━━━━━━━━━━━━━━━━━━━━\u001b[0m\u001b[37m\u001b[0m \u001b[1m12s\u001b[0m 7ms/step - loss: 0.6988 - val_loss: 0.6947\n",
            "Epoch 11/50\n",
            "\u001b[1m1294/1294\u001b[0m \u001b[32m━━━━━━━━━━━━━━━━━━━━\u001b[0m\u001b[37m\u001b[0m \u001b[1m7s\u001b[0m 6ms/step - loss: 0.6969 - val_loss: 0.6937\n",
            "Epoch 12/50\n",
            "\u001b[1m1294/1294\u001b[0m \u001b[32m━━━━━━━━━━━━━━━━━━━━\u001b[0m\u001b[37m\u001b[0m \u001b[1m9s\u001b[0m 5ms/step - loss: 0.6956 - val_loss: 0.6797\n",
            "Epoch 13/50\n",
            "\u001b[1m1294/1294\u001b[0m \u001b[32m━━━━━━━━━━━━━━━━━━━━\u001b[0m\u001b[37m\u001b[0m \u001b[1m9s\u001b[0m 7ms/step - loss: 0.6814 - val_loss: 0.6795\n",
            "Epoch 14/50\n",
            "\u001b[1m1294/1294\u001b[0m \u001b[32m━━━━━━━━━━━━━━━━━━━━\u001b[0m\u001b[37m\u001b[0m \u001b[1m8s\u001b[0m 5ms/step - loss: 0.6824 - val_loss: 0.6794\n",
            "Epoch 15/50\n",
            "\u001b[1m1294/1294\u001b[0m \u001b[32m━━━━━━━━━━━━━━━━━━━━\u001b[0m\u001b[37m\u001b[0m \u001b[1m11s\u001b[0m 5ms/step - loss: 0.6810 - val_loss: 0.6794\n",
            "Epoch 16/50\n",
            "\u001b[1m1294/1294\u001b[0m \u001b[32m━━━━━━━━━━━━━━━━━━━━\u001b[0m\u001b[37m\u001b[0m \u001b[1m12s\u001b[0m 7ms/step - loss: 0.6831 - val_loss: 0.6794\n",
            "Epoch 17/50\n",
            "\u001b[1m1294/1294\u001b[0m \u001b[32m━━━━━━━━━━━━━━━━━━━━\u001b[0m\u001b[37m\u001b[0m \u001b[1m8s\u001b[0m 5ms/step - loss: 0.6815 - val_loss: 0.6786\n",
            "Epoch 18/50\n",
            "\u001b[1m1294/1294\u001b[0m \u001b[32m━━━━━━━━━━━━━━━━━━━━\u001b[0m\u001b[37m\u001b[0m \u001b[1m10s\u001b[0m 5ms/step - loss: 0.6805 - val_loss: 0.6785\n",
            "Epoch 19/50\n",
            "\u001b[1m1294/1294\u001b[0m \u001b[32m━━━━━━━━━━━━━━━━━━━━\u001b[0m\u001b[37m\u001b[0m \u001b[1m9s\u001b[0m 7ms/step - loss: 0.6808 - val_loss: 0.6785\n",
            "Epoch 20/50\n",
            "\u001b[1m1294/1294\u001b[0m \u001b[32m━━━━━━━━━━━━━━━━━━━━\u001b[0m\u001b[37m\u001b[0m \u001b[1m8s\u001b[0m 5ms/step - loss: 0.6800 - val_loss: 0.6785\n",
            "Epoch 21/50\n",
            "\u001b[1m1294/1294\u001b[0m \u001b[32m━━━━━━━━━━━━━━━━━━━━\u001b[0m\u001b[37m\u001b[0m \u001b[1m9s\u001b[0m 7ms/step - loss: 0.6809 - val_loss: 0.6785\n",
            "Epoch 22/50\n",
            "\u001b[1m1294/1294\u001b[0m \u001b[32m━━━━━━━━━━━━━━━━━━━━\u001b[0m\u001b[37m\u001b[0m \u001b[1m6s\u001b[0m 5ms/step - loss: 0.6809 - val_loss: 0.6785\n",
            "Epoch 23/50\n",
            "\u001b[1m1294/1294\u001b[0m \u001b[32m━━━━━━━━━━━━━━━━━━━━\u001b[0m\u001b[37m\u001b[0m \u001b[1m10s\u001b[0m 5ms/step - loss: 0.6812 - val_loss: 0.6785\n",
            "Epoch 24/50\n",
            "\u001b[1m1294/1294\u001b[0m \u001b[32m━━━━━━━━━━━━━━━━━━━━\u001b[0m\u001b[37m\u001b[0m \u001b[1m9s\u001b[0m 7ms/step - loss: 0.6783 - val_loss: 0.6750\n",
            "Epoch 25/50\n",
            "\u001b[1m1294/1294\u001b[0m \u001b[32m━━━━━━━━━━━━━━━━━━━━\u001b[0m\u001b[37m\u001b[0m \u001b[1m8s\u001b[0m 5ms/step - loss: 0.6777 - val_loss: 0.6750\n",
            "Epoch 26/50\n",
            "\u001b[1m1294/1294\u001b[0m \u001b[32m━━━━━━━━━━━━━━━━━━━━\u001b[0m\u001b[37m\u001b[0m \u001b[1m11s\u001b[0m 6ms/step - loss: 0.6773 - val_loss: 0.6750\n",
            "Epoch 27/50\n",
            "\u001b[1m1294/1294\u001b[0m \u001b[32m━━━━━━━━━━━━━━━━━━━━\u001b[0m\u001b[37m\u001b[0m \u001b[1m12s\u001b[0m 9ms/step - loss: 0.6766 - val_loss: 0.6749\n",
            "Epoch 28/50\n",
            "\u001b[1m1294/1294\u001b[0m \u001b[32m━━━━━━━━━━━━━━━━━━━━\u001b[0m\u001b[37m\u001b[0m \u001b[1m7s\u001b[0m 5ms/step - loss: 0.6757 - val_loss: 0.6680\n",
            "Epoch 29/50\n",
            "\u001b[1m1294/1294\u001b[0m \u001b[32m━━━━━━━━━━━━━━━━━━━━\u001b[0m\u001b[37m\u001b[0m \u001b[1m13s\u001b[0m 7ms/step - loss: 0.6693 - val_loss: 0.6681\n",
            "Epoch 30/50\n",
            "\u001b[1m1294/1294\u001b[0m \u001b[32m━━━━━━━━━━━━━━━━━━━━\u001b[0m\u001b[37m\u001b[0m \u001b[1m7s\u001b[0m 5ms/step - loss: 0.6700 - val_loss: 0.6680\n",
            "Epoch 31/50\n",
            "\u001b[1m1294/1294\u001b[0m \u001b[32m━━━━━━━━━━━━━━━━━━━━\u001b[0m\u001b[37m\u001b[0m \u001b[1m10s\u001b[0m 5ms/step - loss: 0.6706 - val_loss: 0.6681\n",
            "Epoch 32/50\n",
            "\u001b[1m1294/1294\u001b[0m \u001b[32m━━━━━━━━━━━━━━━━━━━━\u001b[0m\u001b[37m\u001b[0m \u001b[1m9s\u001b[0m 7ms/step - loss: 0.6706 - val_loss: 0.6681\n",
            "Epoch 33/50\n",
            "\u001b[1m1294/1294\u001b[0m \u001b[32m━━━━━━━━━━━━━━━━━━━━\u001b[0m\u001b[37m\u001b[0m \u001b[1m8s\u001b[0m 5ms/step - loss: 0.6700 - val_loss: 0.6690\n",
            "Epoch 34/50\n",
            "\u001b[1m1294/1294\u001b[0m \u001b[32m━━━━━━━━━━━━━━━━━━━━\u001b[0m\u001b[37m\u001b[0m \u001b[1m9s\u001b[0m 7ms/step - loss: 0.6704 - val_loss: 0.6680\n",
            "Epoch 35/50\n",
            "\u001b[1m1294/1294\u001b[0m \u001b[32m━━━━━━━━━━━━━━━━━━━━\u001b[0m\u001b[37m\u001b[0m \u001b[1m7s\u001b[0m 5ms/step - loss: 0.6710 - val_loss: 0.6681\n",
            "Epoch 36/50\n",
            "\u001b[1m1294/1294\u001b[0m \u001b[32m━━━━━━━━━━━━━━━━━━━━\u001b[0m\u001b[37m\u001b[0m \u001b[1m11s\u001b[0m 5ms/step - loss: 0.6710 - val_loss: 0.6680\n",
            "Epoch 37/50\n",
            "\u001b[1m1294/1294\u001b[0m \u001b[32m━━━━━━━━━━━━━━━━━━━━\u001b[0m\u001b[37m\u001b[0m \u001b[1m13s\u001b[0m 8ms/step - loss: 0.6705 - val_loss: 0.6680\n",
            "Epoch 38/50\n",
            "\u001b[1m1294/1294\u001b[0m \u001b[32m━━━━━━━━━━━━━━━━━━━━\u001b[0m\u001b[37m\u001b[0m \u001b[1m7s\u001b[0m 6ms/step - loss: 0.6655 - val_loss: 0.6603\n",
            "Epoch 39/50\n",
            "\u001b[1m1294/1294\u001b[0m \u001b[32m━━━━━━━━━━━━━━━━━━━━\u001b[0m\u001b[37m\u001b[0m \u001b[1m10s\u001b[0m 5ms/step - loss: 0.6619 - val_loss: 0.6602\n",
            "Epoch 40/50\n",
            "\u001b[1m1294/1294\u001b[0m \u001b[32m━━━━━━━━━━━━━━━━━━━━\u001b[0m\u001b[37m\u001b[0m \u001b[1m9s\u001b[0m 7ms/step - loss: 0.6625 - val_loss: 0.6603\n",
            "Epoch 41/50\n",
            "\u001b[1m1294/1294\u001b[0m \u001b[32m━━━━━━━━━━━━━━━━━━━━\u001b[0m\u001b[37m\u001b[0m \u001b[1m8s\u001b[0m 5ms/step - loss: 0.6636 - val_loss: 0.6602\n",
            "Epoch 42/50\n",
            "\u001b[1m1294/1294\u001b[0m \u001b[32m━━━━━━━━━━━━━━━━━━━━\u001b[0m\u001b[37m\u001b[0m \u001b[1m10s\u001b[0m 5ms/step - loss: 0.6621 - val_loss: 0.6602\n",
            "Epoch 43/50\n",
            "\u001b[1m1294/1294\u001b[0m \u001b[32m━━━━━━━━━━━━━━━━━━━━\u001b[0m\u001b[37m\u001b[0m \u001b[1m9s\u001b[0m 7ms/step - loss: 0.6627 - val_loss: 0.6603\n",
            "Epoch 44/50\n",
            "\u001b[1m1294/1294\u001b[0m \u001b[32m━━━━━━━━━━━━━━━━━━━━\u001b[0m\u001b[37m\u001b[0m \u001b[1m7s\u001b[0m 5ms/step - loss: 0.6559 - val_loss: 0.6488\n",
            "Epoch 45/50\n",
            "\u001b[1m1294/1294\u001b[0m \u001b[32m━━━━━━━━━━━━━━━━━━━━\u001b[0m\u001b[37m\u001b[0m \u001b[1m12s\u001b[0m 7ms/step - loss: 0.6514 - val_loss: 0.6488\n",
            "Epoch 46/50\n",
            "\u001b[1m1294/1294\u001b[0m \u001b[32m━━━━━━━━━━━━━━━━━━━━\u001b[0m\u001b[37m\u001b[0m \u001b[1m8s\u001b[0m 6ms/step - loss: 0.6515 - val_loss: 0.6491\n",
            "Epoch 47/50\n",
            "\u001b[1m1294/1294\u001b[0m \u001b[32m━━━━━━━━━━━━━━━━━━━━\u001b[0m\u001b[37m\u001b[0m \u001b[1m8s\u001b[0m 6ms/step - loss: 0.6518 - val_loss: 0.6488\n",
            "Epoch 48/50\n",
            "\u001b[1m1294/1294\u001b[0m \u001b[32m━━━━━━━━━━━━━━━━━━━━\u001b[0m\u001b[37m\u001b[0m \u001b[1m8s\u001b[0m 6ms/step - loss: 0.6505 - val_loss: 0.6487\n",
            "Epoch 49/50\n",
            "\u001b[1m1294/1294\u001b[0m \u001b[32m━━━━━━━━━━━━━━━━━━━━\u001b[0m\u001b[37m\u001b[0m \u001b[1m9s\u001b[0m 5ms/step - loss: 0.6510 - val_loss: 0.6488\n",
            "Epoch 50/50\n",
            "\u001b[1m1294/1294\u001b[0m \u001b[32m━━━━━━━━━━━━━━━━━━━━\u001b[0m\u001b[37m\u001b[0m \u001b[1m9s\u001b[0m 7ms/step - loss: 0.6506 - val_loss: 0.6488\n",
            "\u001b[1m12931/12931\u001b[0m \u001b[32m━━━━━━━━━━━━━━━━━━━━\u001b[0m\u001b[37m\u001b[0m \u001b[1m18s\u001b[0m 1ms/step\n",
            "(413768, 32)\n"
          ]
        }
      ]
    },
    {
      "cell_type": "markdown",
      "source": [
        "Let's Evaluate our model"
      ],
      "metadata": {
        "id": "j1WU69ts7g8Y"
      }
    },
    {
      "cell_type": "code",
      "source": [
        "import matplotlib.pyplot as plt\n",
        "\n",
        "history = autoencoder.fit(data, data, epochs=50, batch_size=256, shuffle=True, validation_split=0.2)\n",
        "\n",
        "plt.plot(history.history['loss'], label='Training Loss')\n",
        "plt.plot(history.history['val_loss'], label='Validation Loss')\n",
        "plt.xlabel('Epochs')\n",
        "plt.ylabel('Loss')\n",
        "plt.legend()\n",
        "plt.show()\n"
      ],
      "metadata": {
        "colab": {
          "base_uri": "https://localhost:8080/",
          "height": 1000
        },
        "id": "oGiHej8g7n4u",
        "outputId": "954a354b-38e8-4935-973a-cf7318b7ab20"
      },
      "execution_count": 7,
      "outputs": [
        {
          "output_type": "stream",
          "name": "stdout",
          "text": [
            "Epoch 1/50\n",
            "\u001b[1m1294/1294\u001b[0m \u001b[32m━━━━━━━━━━━━━━━━━━━━\u001b[0m\u001b[37m\u001b[0m \u001b[1m7s\u001b[0m 5ms/step - loss: 0.6529 - val_loss: 0.6489\n",
            "Epoch 2/50\n",
            "\u001b[1m1294/1294\u001b[0m \u001b[32m━━━━━━━━━━━━━━━━━━━━\u001b[0m\u001b[37m\u001b[0m \u001b[1m9s\u001b[0m 7ms/step - loss: 0.6507 - val_loss: 0.6488\n",
            "Epoch 3/50\n",
            "\u001b[1m1294/1294\u001b[0m \u001b[32m━━━━━━━━━━━━━━━━━━━━\u001b[0m\u001b[37m\u001b[0m \u001b[1m9s\u001b[0m 6ms/step - loss: 0.6519 - val_loss: 0.6492\n",
            "Epoch 4/50\n",
            "\u001b[1m1294/1294\u001b[0m \u001b[32m━━━━━━━━━━━━━━━━━━━━\u001b[0m\u001b[37m\u001b[0m \u001b[1m9s\u001b[0m 7ms/step - loss: 0.6521 - val_loss: 0.6488\n",
            "Epoch 5/50\n",
            "\u001b[1m1294/1294\u001b[0m \u001b[32m━━━━━━━━━━━━━━━━━━━━\u001b[0m\u001b[37m\u001b[0m \u001b[1m11s\u001b[0m 7ms/step - loss: 0.6508 - val_loss: 0.6488\n",
            "Epoch 6/50\n",
            "\u001b[1m1294/1294\u001b[0m \u001b[32m━━━━━━━━━━━━━━━━━━━━\u001b[0m\u001b[37m\u001b[0m \u001b[1m7s\u001b[0m 5ms/step - loss: 0.6507 - val_loss: 0.6488\n",
            "Epoch 7/50\n",
            "\u001b[1m1294/1294\u001b[0m \u001b[32m━━━━━━━━━━━━━━━━━━━━\u001b[0m\u001b[37m\u001b[0m \u001b[1m12s\u001b[0m 7ms/step - loss: 0.6515 - val_loss: 0.6488\n",
            "Epoch 8/50\n",
            "\u001b[1m1294/1294\u001b[0m \u001b[32m━━━━━━━━━━━━━━━━━━━━\u001b[0m\u001b[37m\u001b[0m \u001b[1m8s\u001b[0m 6ms/step - loss: 0.6516 - val_loss: 0.6488\n",
            "Epoch 9/50\n",
            "\u001b[1m1294/1294\u001b[0m \u001b[32m━━━━━━━━━━━━━━━━━━━━\u001b[0m\u001b[37m\u001b[0m \u001b[1m10s\u001b[0m 6ms/step - loss: 0.6517 - val_loss: 0.6488\n",
            "Epoch 10/50\n",
            "\u001b[1m1294/1294\u001b[0m \u001b[32m━━━━━━━━━━━━━━━━━━━━\u001b[0m\u001b[37m\u001b[0m \u001b[1m11s\u001b[0m 7ms/step - loss: 0.6507 - val_loss: 0.6488\n",
            "Epoch 11/50\n",
            "\u001b[1m1294/1294\u001b[0m \u001b[32m━━━━━━━━━━━━━━━━━━━━\u001b[0m\u001b[37m\u001b[0m \u001b[1m11s\u001b[0m 7ms/step - loss: 0.6510 - val_loss: 0.6487\n",
            "Epoch 12/50\n",
            "\u001b[1m1294/1294\u001b[0m \u001b[32m━━━━━━━━━━━━━━━━━━━━\u001b[0m\u001b[37m\u001b[0m \u001b[1m7s\u001b[0m 5ms/step - loss: 0.6516 - val_loss: 0.6488\n",
            "Epoch 13/50\n",
            "\u001b[1m1294/1294\u001b[0m \u001b[32m━━━━━━━━━━━━━━━━━━━━\u001b[0m\u001b[37m\u001b[0m \u001b[1m10s\u001b[0m 7ms/step - loss: 0.6501 - val_loss: 0.6402\n",
            "Epoch 14/50\n",
            "\u001b[1m1294/1294\u001b[0m \u001b[32m━━━━━━━━━━━━━━━━━━━━\u001b[0m\u001b[37m\u001b[0m \u001b[1m7s\u001b[0m 5ms/step - loss: 0.6426 - val_loss: 0.6401\n",
            "Epoch 15/50\n",
            "\u001b[1m1294/1294\u001b[0m \u001b[32m━━━━━━━━━━━━━━━━━━━━\u001b[0m\u001b[37m\u001b[0m \u001b[1m11s\u001b[0m 6ms/step - loss: 0.6432 - val_loss: 0.6402\n",
            "Epoch 16/50\n",
            "\u001b[1m1294/1294\u001b[0m \u001b[32m━━━━━━━━━━━━━━━━━━━━\u001b[0m\u001b[37m\u001b[0m \u001b[1m13s\u001b[0m 8ms/step - loss: 0.6428 - val_loss: 0.6401\n",
            "Epoch 17/50\n",
            "\u001b[1m1294/1294\u001b[0m \u001b[32m━━━━━━━━━━━━━━━━━━━━\u001b[0m\u001b[37m\u001b[0m \u001b[1m8s\u001b[0m 6ms/step - loss: 0.6425 - val_loss: 0.6403\n",
            "Epoch 18/50\n",
            "\u001b[1m1294/1294\u001b[0m \u001b[32m━━━━━━━━━━━━━━━━━━━━\u001b[0m\u001b[37m\u001b[0m \u001b[1m9s\u001b[0m 5ms/step - loss: 0.6432 - val_loss: 0.6402\n",
            "Epoch 19/50\n",
            "\u001b[1m1294/1294\u001b[0m \u001b[32m━━━━━━━━━━━━━━━━━━━━\u001b[0m\u001b[37m\u001b[0m \u001b[1m12s\u001b[0m 6ms/step - loss: 0.6429 - val_loss: 0.6402\n",
            "Epoch 20/50\n",
            "\u001b[1m1294/1294\u001b[0m \u001b[32m━━━━━━━━━━━━━━━━━━━━\u001b[0m\u001b[37m\u001b[0m \u001b[1m11s\u001b[0m 7ms/step - loss: 0.6423 - val_loss: 0.6411\n",
            "Epoch 21/50\n",
            "\u001b[1m1294/1294\u001b[0m \u001b[32m━━━━━━━━━━━━━━━━━━━━\u001b[0m\u001b[37m\u001b[0m \u001b[1m7s\u001b[0m 5ms/step - loss: 0.6354 - val_loss: 0.6302\n",
            "Epoch 22/50\n",
            "\u001b[1m1294/1294\u001b[0m \u001b[32m━━━━━━━━━━━━━━━━━━━━\u001b[0m\u001b[37m\u001b[0m \u001b[1m12s\u001b[0m 7ms/step - loss: 0.6323 - val_loss: 0.6301\n",
            "Epoch 23/50\n",
            "\u001b[1m1294/1294\u001b[0m \u001b[32m━━━━━━━━━━━━━━━━━━━━\u001b[0m\u001b[37m\u001b[0m \u001b[1m11s\u001b[0m 8ms/step - loss: 0.6320 - val_loss: 0.6299\n",
            "Epoch 24/50\n",
            "\u001b[1m1294/1294\u001b[0m \u001b[32m━━━━━━━━━━━━━━━━━━━━\u001b[0m\u001b[37m\u001b[0m \u001b[1m7s\u001b[0m 6ms/step - loss: 0.6321 - val_loss: 0.6302\n",
            "Epoch 25/50\n",
            "\u001b[1m1294/1294\u001b[0m \u001b[32m━━━━━━━━━━━━━━━━━━━━\u001b[0m\u001b[37m\u001b[0m \u001b[1m13s\u001b[0m 8ms/step - loss: 0.6321 - val_loss: 0.6299\n",
            "Epoch 26/50\n",
            "\u001b[1m1294/1294\u001b[0m \u001b[32m━━━━━━━━━━━━━━━━━━━━\u001b[0m\u001b[37m\u001b[0m \u001b[1m9s\u001b[0m 7ms/step - loss: 0.6328 - val_loss: 0.6300\n",
            "Epoch 27/50\n",
            "\u001b[1m1294/1294\u001b[0m \u001b[32m━━━━━━━━━━━━━━━━━━━━\u001b[0m\u001b[37m\u001b[0m \u001b[1m7s\u001b[0m 5ms/step - loss: 0.6325 - val_loss: 0.6299\n",
            "Epoch 28/50\n",
            "\u001b[1m1294/1294\u001b[0m \u001b[32m━━━━━━━━━━━━━━━━━━━━\u001b[0m\u001b[37m\u001b[0m \u001b[1m9s\u001b[0m 7ms/step - loss: 0.6326 - val_loss: 0.6301\n",
            "Epoch 29/50\n",
            "\u001b[1m1294/1294\u001b[0m \u001b[32m━━━━━━━━━━━━━━━━━━━━\u001b[0m\u001b[37m\u001b[0m \u001b[1m7s\u001b[0m 5ms/step - loss: 0.6321 - val_loss: 0.6300\n",
            "Epoch 30/50\n",
            "\u001b[1m1294/1294\u001b[0m \u001b[32m━━━━━━━━━━━━━━━━━━━━\u001b[0m\u001b[37m\u001b[0m \u001b[1m10s\u001b[0m 7ms/step - loss: 0.6323 - val_loss: 0.6300\n",
            "Epoch 31/50\n",
            "\u001b[1m1294/1294\u001b[0m \u001b[32m━━━━━━━━━━━━━━━━━━━━\u001b[0m\u001b[37m\u001b[0m \u001b[1m8s\u001b[0m 5ms/step - loss: 0.6327 - val_loss: 0.6300\n",
            "Epoch 32/50\n",
            "\u001b[1m1294/1294\u001b[0m \u001b[32m━━━━━━━━━━━━━━━━━━━━\u001b[0m\u001b[37m\u001b[0m \u001b[1m9s\u001b[0m 7ms/step - loss: 0.6297 - val_loss: 0.6155\n",
            "Epoch 33/50\n",
            "\u001b[1m1294/1294\u001b[0m \u001b[32m━━━━━━━━━━━━━━━━━━━━\u001b[0m\u001b[37m\u001b[0m \u001b[1m8s\u001b[0m 6ms/step - loss: 0.6177 - val_loss: 0.6149\n",
            "Epoch 34/50\n",
            "\u001b[1m1294/1294\u001b[0m \u001b[32m━━━━━━━━━━━━━━━━━━━━\u001b[0m\u001b[37m\u001b[0m \u001b[1m10s\u001b[0m 5ms/step - loss: 0.6173 - val_loss: 0.6149\n",
            "Epoch 35/50\n",
            "\u001b[1m1294/1294\u001b[0m \u001b[32m━━━━━━━━━━━━━━━━━━━━\u001b[0m\u001b[37m\u001b[0m \u001b[1m9s\u001b[0m 7ms/step - loss: 0.6175 - val_loss: 0.6148\n",
            "Epoch 36/50\n",
            "\u001b[1m1294/1294\u001b[0m \u001b[32m━━━━━━━━━━━━━━━━━━━━\u001b[0m\u001b[37m\u001b[0m \u001b[1m7s\u001b[0m 6ms/step - loss: 0.6170 - val_loss: 0.6149\n",
            "Epoch 37/50\n",
            "\u001b[1m1294/1294\u001b[0m \u001b[32m━━━━━━━━━━━━━━━━━━━━\u001b[0m\u001b[37m\u001b[0m \u001b[1m9s\u001b[0m 7ms/step - loss: 0.6174 - val_loss: 0.6148\n",
            "Epoch 38/50\n",
            "\u001b[1m1294/1294\u001b[0m \u001b[32m━━━━━━━━━━━━━━━━━━━━\u001b[0m\u001b[37m\u001b[0m \u001b[1m8s\u001b[0m 6ms/step - loss: 0.6166 - val_loss: 0.6148\n",
            "Epoch 39/50\n",
            "\u001b[1m1294/1294\u001b[0m \u001b[32m━━━━━━━━━━━━━━━━━━━━\u001b[0m\u001b[37m\u001b[0m \u001b[1m12s\u001b[0m 7ms/step - loss: 0.6166 - val_loss: 0.6151\n",
            "Epoch 40/50\n",
            "\u001b[1m1294/1294\u001b[0m \u001b[32m━━━━━━━━━━━━━━━━━━━━\u001b[0m\u001b[37m\u001b[0m \u001b[1m10s\u001b[0m 8ms/step - loss: 0.6175 - val_loss: 0.6149\n",
            "Epoch 41/50\n",
            "\u001b[1m1294/1294\u001b[0m \u001b[32m━━━━━━━━━━━━━━━━━━━━\u001b[0m\u001b[37m\u001b[0m \u001b[1m7s\u001b[0m 6ms/step - loss: 0.6167 - val_loss: 0.6149\n",
            "Epoch 42/50\n",
            "\u001b[1m1294/1294\u001b[0m \u001b[32m━━━━━━━━━━━━━━━━━━━━\u001b[0m\u001b[37m\u001b[0m \u001b[1m12s\u001b[0m 7ms/step - loss: 0.6180 - val_loss: 0.6148\n",
            "Epoch 43/50\n",
            "\u001b[1m1294/1294\u001b[0m \u001b[32m━━━━━━━━━━━━━━━━━━━━\u001b[0m\u001b[37m\u001b[0m \u001b[1m11s\u001b[0m 8ms/step - loss: 0.6170 - val_loss: 0.6154\n",
            "Epoch 44/50\n",
            "\u001b[1m1294/1294\u001b[0m \u001b[32m━━━━━━━━━━━━━━━━━━━━\u001b[0m\u001b[37m\u001b[0m \u001b[1m8s\u001b[0m 6ms/step - loss: 0.6175 - val_loss: 0.6149\n",
            "Epoch 45/50\n",
            "\u001b[1m1294/1294\u001b[0m \u001b[32m━━━━━━━━━━━━━━━━━━━━\u001b[0m\u001b[37m\u001b[0m \u001b[1m9s\u001b[0m 7ms/step - loss: 0.6174 - val_loss: 0.6148\n",
            "Epoch 46/50\n",
            "\u001b[1m1294/1294\u001b[0m \u001b[32m━━━━━━━━━━━━━━━━━━━━\u001b[0m\u001b[37m\u001b[0m \u001b[1m7s\u001b[0m 5ms/step - loss: 0.6172 - val_loss: 0.6164\n",
            "Epoch 47/50\n",
            "\u001b[1m1294/1294\u001b[0m \u001b[32m━━━━━━━━━━━━━━━━━━━━\u001b[0m\u001b[37m\u001b[0m \u001b[1m10s\u001b[0m 5ms/step - loss: 0.6176 - val_loss: 0.6148\n",
            "Epoch 48/50\n",
            "\u001b[1m1294/1294\u001b[0m \u001b[32m━━━━━━━━━━━━━━━━━━━━\u001b[0m\u001b[37m\u001b[0m \u001b[1m9s\u001b[0m 7ms/step - loss: 0.6163 - val_loss: 0.6178\n",
            "Epoch 49/50\n",
            "\u001b[1m1294/1294\u001b[0m \u001b[32m━━━━━━━━━━━━━━━━━━━━\u001b[0m\u001b[37m\u001b[0m \u001b[1m8s\u001b[0m 5ms/step - loss: 0.6178 - val_loss: 0.6149\n",
            "Epoch 50/50\n",
            "\u001b[1m1294/1294\u001b[0m \u001b[32m━━━━━━━━━━━━━━━━━━━━\u001b[0m\u001b[37m\u001b[0m \u001b[1m11s\u001b[0m 6ms/step - loss: 0.6174 - val_loss: 0.6149\n"
          ]
        },
        {
          "output_type": "display_data",
          "data": {
            "text/plain": [
              "<Figure size 640x480 with 1 Axes>"
            ],
            "image/png": "[encoded data removed]"
          },
          "metadata": {}
        }
      ]
    },
    {
      "cell_type": "markdown",
      "source": [
        "Umm, it's the vertical scale that is problematic, my model isn't overfitted, hehe. YOU know what, let's showve this under the rug and move on, it's not like we'll be using this model for any deployment. I mean it's based on a dataset about depression. Let's move on."
      ],
      "metadata": {
        "id": "15his7OeRrJI"
      }
    },
    {
      "cell_type": "markdown",
      "source": [
        "Let's calculate the reconstruction error for confirmation, I am curious about how badly we messed up."
      ],
      "metadata": {
        "id": "v5jp5sWpSp4m"
      }
    },
    {
      "cell_type": "code",
      "source": [
        "reconstructed_data = autoencoder.predict(data)\n",
        "reconstruction_error = np.mean(np.square(data - reconstructed_data), axis=1)\n",
        "print(\"Mean Reconstruction Error: \", np.mean(reconstruction_error))\n",
        "print(\"Max Reconstruction Error: \", np.max(reconstruction_error))\n",
        "print(\"Min Reconstruction Error: \", np.min(reconstruction_error))"
      ],
      "metadata": {
        "colab": {
          "base_uri": "https://localhost:8080/"
        },
        "id": "XubsGTvsSn_n",
        "outputId": "1db23b30-bd64-4a15-d230-5201e049a378"
      },
      "execution_count": 8,
      "outputs": [
        {
          "output_type": "stream",
          "name": "stdout",
          "text": [
            "\u001b[1m12931/12931\u001b[0m \u001b[32m━━━━━━━━━━━━━━━━━━━━\u001b[0m\u001b[37m\u001b[0m \u001b[1m22s\u001b[0m 2ms/step\n",
            "Mean Reconstruction Error:  0.61673224\n",
            "Max Reconstruction Error:  2.5146413\n",
            "Min Reconstruction Error:  0.21911535\n"
          ]
        }
      ]
    },
    {
      "cell_type": "markdown",
      "source": [
        "54%, ehh it's not too bad considering we are working with dataset not designed for machine learning. We are also working with underskilled data scientist, I think we should fire them, but I can keep thinking because we dont have the funds to hire better scientist.\n",
        "\n",
        "> By the way, let's save our model\n",
        "\n"
      ],
      "metadata": {
        "id": "YMg-CpfSTUxQ"
      }
    },
    {
      "cell_type": "code",
      "source": [
        "import os\n",
        "\n",
        "model_path = '/content/drive/MyDrive/models/depression_model.h5'\n",
        "\n",
        "if os.path.exists(model_path):\n",
        "    print(\"Model already exists. Skipping saving.\")\n",
        "else:\n",
        "    autoencoder = autoencoder.save(model_path)\n",
        "    autoencoder\n",
        "    print(\"Model saved successfully.\")"
      ],
      "metadata": {
        "colab": {
          "base_uri": "https://localhost:8080/"
        },
        "id": "taa6ipSVUNsg",
        "outputId": "1cbee070-b88f-4242-d84d-df00525e5601"
      },
      "execution_count": 9,
      "outputs": [
        {
          "output_type": "stream",
          "name": "stdout",
          "text": [
            "Model already exists. Skipping saving.\n"
          ]
        }
      ]
    },
    {
      "cell_type": "markdown",
      "source": [
        "Aaaand done. We'll now move on to the visualization aspect which is going to be more official and less quirky because we'll be dealing with stake holders."
      ],
      "metadata": {
        "id": "2LRAWqe6e0tP"
      }
    },
    {
      "cell_type": "markdown",
      "source": [
        "Let's import the required modules."
      ],
      "metadata": {
        "id": "1laKrfDVfiOP"
      }
    },
    {
      "cell_type": "code",
      "source": [
        "import matplotlib.pyplot as plt\n",
        "import seaborn as sns\n",
        "import sklearn.metrics as metrics"
      ],
      "metadata": {
        "id": "BzuZctn3fonC"
      },
      "execution_count": 10,
      "outputs": []
    },
    {
      "cell_type": "markdown",
      "source": [
        "Let's Load our visualization dataset."
      ],
      "metadata": {
        "id": "tZ-wujzigK2W"
      }
    },
    {
      "cell_type": "code",
      "source": [
        "viz_path = '/content/drive/MyDrive/datasets/visualization_data.csv'\n",
        "df_viz = pd.read_csv(viz_path)\n",
        "df_viz.head(10)"
      ],
      "metadata": {
        "colab": {
          "base_uri": "https://localhost:8080/",
          "height": 609
        },
        "id": "D5TMpzOIgTeq",
        "outputId": "d89b463f-9ac5-4f55-8329-d3764cc52ffa"
      },
      "execution_count": 11,
      "outputs": [
        {
          "output_type": "execute_result",
          "data": {
            "text/plain": [
              "                  Name  Age Marital Status    Education Level  \\\n",
              "0     Christine Barker   31        Married  Bachelor's Degree   \n",
              "1     Jacqueline Lewis   55        Married        High School   \n",
              "2       Shannon Church   78        Widowed    Master's Degree   \n",
              "3       Charles Jordan   58       Divorced    Master's Degree   \n",
              "4         Michael Rich   18         Single        High School   \n",
              "5           Kathy Hill   20         Single        High School   \n",
              "6      Crystal Delgado   60        Widowed   Associate Degree   \n",
              "7       Charles Kaiser   31         Single        High School   \n",
              "8       Kathryn Taylor   50       Divorced  Bachelor's Degree   \n",
              "9  Alexander Hernandez   77        Married  Bachelor's Degree   \n",
              "\n",
              "   Number of Children Smoking Status Physical Activity Level  \\\n",
              "0                   2     Non-smoker                  Active   \n",
              "1                   1     Non-smoker               Sedentary   \n",
              "2                   1     Non-smoker               Sedentary   \n",
              "3                   3     Non-smoker                Moderate   \n",
              "4                   0     Non-smoker               Sedentary   \n",
              "5                   0         Former                  Active   \n",
              "6                   1     Non-smoker               Sedentary   \n",
              "7                   0     Non-smoker                  Active   \n",
              "8                   0     Non-smoker                  Active   \n",
              "9                   2     Non-smoker               Sedentary   \n",
              "\n",
              "  Employment Status     Income Alcohol Consumption Dietary Habits  \\\n",
              "0        Unemployed   26265.67            Moderate       Moderate   \n",
              "1          Employed   42710.36                High      Unhealthy   \n",
              "2          Employed  125332.79                 Low      Unhealthy   \n",
              "3        Unemployed    9992.78            Moderate       Moderate   \n",
              "4        Unemployed    8595.08                 Low       Moderate   \n",
              "5          Employed   44448.91                 Low      Unhealthy   \n",
              "6        Unemployed   22565.47            Moderate       Moderate   \n",
              "7          Employed   39608.18            Moderate      Unhealthy   \n",
              "8          Employed   93360.07            Moderate        Healthy   \n",
              "9          Employed   77597.84                 Low      Unhealthy   \n",
              "\n",
              "  Sleep Patterns History of Mental Illness History of Substance Abuse  \\\n",
              "0           Fair                       Yes                         No   \n",
              "1           Fair                       Yes                         No   \n",
              "2           Good                        No                         No   \n",
              "3           Poor                        No                         No   \n",
              "4           Fair                       Yes                         No   \n",
              "5           Fair                        No                        Yes   \n",
              "6           Poor                        No                        Yes   \n",
              "7           Good                        No                         No   \n",
              "8           Good                        No                        Yes   \n",
              "9           Poor                       Yes                         No   \n",
              "\n",
              "  Family History of Depression Chronic Medical Conditions        status  \n",
              "0                          Yes                        Yes          poor  \n",
              "1                           No                        Yes          poor  \n",
              "2                          Yes                         No  middle_class  \n",
              "3                           No                         No          poor  \n",
              "4                          Yes                        Yes          poor  \n",
              "5                           No                         No          poor  \n",
              "6                           No                         No          poor  \n",
              "7                           No                         No          poor  \n",
              "8                           No                        Yes  middle_class  \n",
              "9                           No                         No  middle_class  "
            ],
            "text/html": [
              "\n",
              "  <div id=\"df-21cd25f7-9603-4cb5-8654-3dd3dbad120b\" class=\"colab-df-container\">\n",
              "    <div>\n",
              "<style scoped>\n",
              "    .dataframe tbody tr th:only-of-type {\n",
              "        vertical-align: middle;\n",
              "    }\n",
              "\n",
              "    .dataframe tbody tr th {\n",
              "        vertical-align: top;\n",
              "    }\n",
              "\n",
              "    .dataframe thead th {\n",
              "        text-align: right;\n",
              "    }\n",
              "</style>\n",
              "<table border=\"1\" class=\"dataframe\">\n",
              "  <thead>\n",
              "    <tr style=\"text-align: right;\">\n",
              "      <th></th>\n",
              "      <th>Name</th>\n",
              "      <th>Age</th>\n",
              "      <th>Marital Status</th>\n",
              "      <th>Education Level</th>\n",
              "      <th>Number of Children</th>\n",
              "      <th>Smoking Status</th>\n",
              "      <th>Physical Activity Level</th>\n",
              "      <th>Employment Status</th>\n",
              "      <th>Income</th>\n",
              "      <th>Alcohol Consumption</th>\n",
              "      <th>Dietary Habits</th>\n",
              "      <th>Sleep Patterns</th>\n",
              "      <th>History of Mental Illness</th>\n",
              "      <th>History of Substance Abuse</th>\n",
              "      <th>Family History of Depression</th>\n",
              "      <th>Chronic Medical Conditions</th>\n",
              "      <th>status</th>\n",
              "    </tr>\n",
              "  </thead>\n",
              "  <tbody>\n",
              "    <tr>\n",
              "      <th>0</th>\n",
              "      <td>Christine Barker</td>\n",
              "      <td>31</td>\n",
              "      <td>Married</td>\n",
              "      <td>Bachelor's Degree</td>\n",
              "      <td>2</td>\n",
              "      <td>Non-smoker</td>\n",
              "      <td>Active</td>\n",
              "      <td>Unemployed</td>\n",
              "      <td>26265.67</td>\n",
              "      <td>Moderate</td>\n",
              "      <td>Moderate</td>\n",
              "      <td>Fair</td>\n",
              "      <td>Yes</td>\n",
              "      <td>No</td>\n",
              "      <td>Yes</td>\n",
              "      <td>Yes</td>\n",
              "      <td>poor</td>\n",
              "    </tr>\n",
              "    <tr>\n",
              "      <th>1</th>\n",
              "      <td>Jacqueline Lewis</td>\n",
              "      <td>55</td>\n",
              "      <td>Married</td>\n",
              "      <td>High School</td>\n",
              "      <td>1</td>\n",
              "      <td>Non-smoker</td>\n",
              "      <td>Sedentary</td>\n",
              "      <td>Employed</td>\n",
              "      <td>42710.36</td>\n",
              "      <td>High</td>\n",
              "      <td>Unhealthy</td>\n",
              "      <td>Fair</td>\n",
              "      <td>Yes</td>\n",
              "      <td>No</td>\n",
              "      <td>No</td>\n",
              "      <td>Yes</td>\n",
              "      <td>poor</td>\n",
              "    </tr>\n",
              "    <tr>\n",
              "      <th>2</th>\n",
              "      <td>Shannon Church</td>\n",
              "      <td>78</td>\n",
              "      <td>Widowed</td>\n",
              "      <td>Master's Degree</td>\n",
              "      <td>1</td>\n",
              "      <td>Non-smoker</td>\n",
              "      <td>Sedentary</td>\n",
              "      <td>Employed</td>\n",
              "      <td>125332.79</td>\n",
              "      <td>Low</td>\n",
              "      <td>Unhealthy</td>\n",
              "      <td>Good</td>\n",
              "      <td>No</td>\n",
              "      <td>No</td>\n",
              "      <td>Yes</td>\n",
              "      <td>No</td>\n",
              "      <td>middle_class</td>\n",
              "    </tr>\n",
              "    <tr>\n",
              "      <th>3</th>\n",
              "      <td>Charles Jordan</td>\n",
              "      <td>58</td>\n",
              "      <td>Divorced</td>\n",
              "      <td>Master's Degree</td>\n",
              "      <td>3</td>\n",
              "      <td>Non-smoker</td>\n",
              "      <td>Moderate</td>\n",
              "      <td>Unemployed</td>\n",
              "      <td>9992.78</td>\n",
              "      <td>Moderate</td>\n",
              "      <td>Moderate</td>\n",
              "      <td>Poor</td>\n",
              "      <td>No</td>\n",
              "      <td>No</td>\n",
              "      <td>No</td>\n",
              "      <td>No</td>\n",
              "      <td>poor</td>\n",
              "    </tr>\n",
              "    <tr>\n",
              "      <th>4</th>\n",
              "      <td>Michael Rich</td>\n",
              "      <td>18</td>\n",
              "      <td>Single</td>\n",
              "      <td>High School</td>\n",
              "      <td>0</td>\n",
              "      <td>Non-smoker</td>\n",
              "      <td>Sedentary</td>\n",
              "      <td>Unemployed</td>\n",
              "      <td>8595.08</td>\n",
              "      <td>Low</td>\n",
              "      <td>Moderate</td>\n",
              "      <td>Fair</td>\n",
              "      <td>Yes</td>\n",
              "      <td>No</td>\n",
              "      <td>Yes</td>\n",
              "      <td>Yes</td>\n",
              "      <td>poor</td>\n",
              "    </tr>\n",
              "    <tr>\n",
              "      <th>5</th>\n",
              "      <td>Kathy Hill</td>\n",
              "      <td>20</td>\n",
              "      <td>Single</td>\n",
              "      <td>High School</td>\n",
              "      <td>0</td>\n",
              "      <td>Former</td>\n",
              "      <td>Active</td>\n",
              "      <td>Employed</td>\n",
              "      <td>44448.91</td>\n",
              "      <td>Low</td>\n",
              "      <td>Unhealthy</td>\n",
              "      <td>Fair</td>\n",
              "      <td>No</td>\n",
              "      <td>Yes</td>\n",
              "      <td>No</td>\n",
              "      <td>No</td>\n",
              "      <td>poor</td>\n",
              "    </tr>\n",
              "    <tr>\n",
              "      <th>6</th>\n",
              "      <td>Crystal Delgado</td>\n",
              "      <td>60</td>\n",
              "      <td>Widowed</td>\n",
              "      <td>Associate Degree</td>\n",
              "      <td>1</td>\n",
              "      <td>Non-smoker</td>\n",
              "      <td>Sedentary</td>\n",
              "      <td>Unemployed</td>\n",
              "      <td>22565.47</td>\n",
              "      <td>Moderate</td>\n",
              "      <td>Moderate</td>\n",
              "      <td>Poor</td>\n",
              "      <td>No</td>\n",
              "      <td>Yes</td>\n",
              "      <td>No</td>\n",
              "      <td>No</td>\n",
              "      <td>poor</td>\n",
              "    </tr>\n",
              "    <tr>\n",
              "      <th>7</th>\n",
              "      <td>Charles Kaiser</td>\n",
              "      <td>31</td>\n",
              "      <td>Single</td>\n",
              "      <td>High School</td>\n",
              "      <td>0</td>\n",
              "      <td>Non-smoker</td>\n",
              "      <td>Active</td>\n",
              "      <td>Employed</td>\n",
              "      <td>39608.18</td>\n",
              "      <td>Moderate</td>\n",
              "      <td>Unhealthy</td>\n",
              "      <td>Good</td>\n",
              "      <td>No</td>\n",
              "      <td>No</td>\n",
              "      <td>No</td>\n",
              "      <td>No</td>\n",
              "      <td>poor</td>\n",
              "    </tr>\n",
              "    <tr>\n",
              "      <th>8</th>\n",
              "      <td>Kathryn Taylor</td>\n",
              "      <td>50</td>\n",
              "      <td>Divorced</td>\n",
              "      <td>Bachelor's Degree</td>\n",
              "      <td>0</td>\n",
              "      <td>Non-smoker</td>\n",
              "      <td>Active</td>\n",
              "      <td>Employed</td>\n",
              "      <td>93360.07</td>\n",
              "      <td>Moderate</td>\n",
              "      <td>Healthy</td>\n",
              "      <td>Good</td>\n",
              "      <td>No</td>\n",
              "      <td>Yes</td>\n",
              "      <td>No</td>\n",
              "      <td>Yes</td>\n",
              "      <td>middle_class</td>\n",
              "    </tr>\n",
              "    <tr>\n",
              "      <th>9</th>\n",
              "      <td>Alexander Hernandez</td>\n",
              "      <td>77</td>\n",
              "      <td>Married</td>\n",
              "      <td>Bachelor's Degree</td>\n",
              "      <td>2</td>\n",
              "      <td>Non-smoker</td>\n",
              "      <td>Sedentary</td>\n",
              "      <td>Employed</td>\n",
              "      <td>77597.84</td>\n",
              "      <td>Low</td>\n",
              "      <td>Unhealthy</td>\n",
              "      <td>Poor</td>\n",
              "      <td>Yes</td>\n",
              "      <td>No</td>\n",
              "      <td>No</td>\n",
              "      <td>No</td>\n",
              "      <td>middle_class</td>\n",
              "    </tr>\n",
              "  </tbody>\n",
              "</table>\n",
              "</div>\n",
              "    <div class=\"colab-df-buttons\">\n",
              "\n",
              "  <div class=\"colab-df-container\">\n",
              "    <button class=\"colab-df-convert\" onclick=\"convertToInteractive('df-21cd25f7-9603-4cb5-8654-3dd3dbad120b')\"\n",
              "            title=\"Convert this dataframe to an interactive table.\"\n",
              "            style=\"display:none;\">\n",
              "\n",
              "  <svg xmlns=\"http://www.w3.org/2000/svg\" height=\"24px\" viewBox=\"0 -960 960 960\">\n",
              "    <path d=\"M120-120v-720h720v720H120Zm60-500h600v-160H180v160Zm220 220h160v-160H400v160Zm0 220h160v-160H400v160ZM180-400h160v-160H180v160Zm440 0h160v-160H620v160ZM180-180h160v-160H180v160Zm440 0h160v-160H620v160Z\"/>\n",
              "  </svg>\n",
              "    </button>\n",
              "\n",
              "  <style>\n",
              "    .colab-df-container {\n",
              "      display:flex;\n",
              "      gap: 12px;\n",
              "    }\n",
              "\n",
              "    .colab-df-convert {\n",
              "      background-color: #E8F0FE;\n",
              "      border: none;\n",
              "      border-radius: 50%;\n",
              "      cursor: pointer;\n",
              "      display: none;\n",
              "      fill: #1967D2;\n",
              "      height: 32px;\n",
              "      padding: 0 0 0 0;\n",
              "      width: 32px;\n",
              "    }\n",
              "\n",
              "    .colab-df-convert:hover {\n",
              "      background-color: #E2EBFA;\n",
              "      box-shadow: 0px 1px 2px rgba(60, 64, 67, 0.3), 0px 1px 3px 1px rgba(60, 64, 67, 0.15);\n",
              "      fill: #174EA6;\n",
              "    }\n",
              "\n",
              "    .colab-df-buttons div {\n",
              "      margin-bottom: 4px;\n",
              "    }\n",
              "\n",
              "    [theme=dark] .colab-df-convert {\n",
              "      background-color: #3B4455;\n",
              "      fill: #D2E3FC;\n",
              "    }\n",
              "\n",
              "    [theme=dark] .colab-df-convert:hover {\n",
              "      background-color: #434B5C;\n",
              "      box-shadow: 0px 1px 3px 1px rgba(0, 0, 0, 0.15);\n",
              "      filter: drop-shadow(0px 1px 2px rgba(0, 0, 0, 0.3));\n",
              "      fill: #FFFFFF;\n",
              "    }\n",
              "  </style>\n",
              "\n",
              "    <script>\n",
              "      const buttonEl =\n",
              "        document.querySelector('#df-21cd25f7-9603-4cb5-8654-3dd3dbad120b button.colab-df-convert');\n",
              "      buttonEl.style.display =\n",
              "        google.colab.kernel.accessAllowed ? 'block' : 'none';\n",
              "\n",
              "      async function convertToInteractive(key) {\n",
              "        const element = document.querySelector('#df-21cd25f7-9603-4cb5-8654-3dd3dbad120b');\n",
              "        const dataTable =\n",
              "          await google.colab.kernel.invokeFunction('convertToInteractive',\n",
              "                                                    [key], {});\n",
              "        if (!dataTable) return;\n",
              "\n",
              "        const docLinkHtml = 'Like what you see? Visit the ' +\n",
              "          '<a target=\"_blank\" href=https://colab.research.google.com/notebooks/data_table.ipynb>data table notebook</a>'\n",
              "          + ' to learn more about interactive tables.';\n",
              "        element.innerHTML = '';\n",
              "        dataTable['output_type'] = 'display_data';\n",
              "        await google.colab.output.renderOutput(dataTable, element);\n",
              "        const docLink = document.createElement('div');\n",
              "        docLink.innerHTML = docLinkHtml;\n",
              "        element.appendChild(docLink);\n",
              "      }\n",
              "    </script>\n",
              "  </div>\n",
              "\n",
              "\n",
              "<div id=\"df-6f5ac38c-de72-4fde-9c58-0960fcdece6e\">\n",
              "  <button class=\"colab-df-quickchart\" onclick=\"quickchart('df-6f5ac38c-de72-4fde-9c58-0960fcdece6e')\"\n",
              "            title=\"Suggest charts\"\n",
              "            style=\"display:none;\">\n",
              "\n",
              "<svg xmlns=\"http://www.w3.org/2000/svg\" height=\"24px\"viewBox=\"0 0 24 24\"\n",
              "     width=\"24px\">\n",
              "    <g>\n",
              "        <path d=\"M19 3H5c-1.1 0-2 .9-2 2v14c0 1.1.9 2 2 2h14c1.1 0 2-.9 2-2V5c0-1.1-.9-2-2-2zM9 17H7v-7h2v7zm4 0h-2V7h2v10zm4 0h-2v-4h2v4z\"/>\n",
              "    </g>\n",
              "</svg>\n",
              "  </button>\n",
              "\n",
              "<style>\n",
              "  .colab-df-quickchart {\n",
              "      --bg-color: #E8F0FE;\n",
              "      --fill-color: #1967D2;\n",
              "      --hover-bg-color: #E2EBFA;\n",
              "      --hover-fill-color: #174EA6;\n",
              "      --disabled-fill-color: #AAA;\n",
              "      --disabled-bg-color: #DDD;\n",
              "  }\n",
              "\n",
              "  [theme=dark] .colab-df-quickchart {\n",
              "      --bg-color: #3B4455;\n",
              "      --fill-color: #D2E3FC;\n",
              "      --hover-bg-color: #434B5C;\n",
              "      --hover-fill-color: #FFFFFF;\n",
              "      --disabled-bg-color: #3B4455;\n",
              "      --disabled-fill-color: #666;\n",
              "  }\n",
              "\n",
              "  .colab-df-quickchart {\n",
              "    background-color: var(--bg-color);\n",
              "    border: none;\n",
              "    border-radius: 50%;\n",
              "    cursor: pointer;\n",
              "    display: none;\n",
              "    fill: var(--fill-color);\n",
              "    height: 32px;\n",
              "    padding: 0;\n",
              "    width: 32px;\n",
              "  }\n",
              "\n",
              "  .colab-df-quickchart:hover {\n",
              "    background-color: var(--hover-bg-color);\n",
              "    box-shadow: 0 1px 2px rgba(60, 64, 67, 0.3), 0 1px 3px 1px rgba(60, 64, 67, 0.15);\n",
              "    fill: var(--button-hover-fill-color);\n",
              "  }\n",
              "\n",
              "  .colab-df-quickchart-complete:disabled,\n",
              "  .colab-df-quickchart-complete:disabled:hover {\n",
              "    background-color: var(--disabled-bg-color);\n",
              "    fill: var(--disabled-fill-color);\n",
              "    box-shadow: none;\n",
              "  }\n",
              "\n",
              "  .colab-df-spinner {\n",
              "    border: 2px solid var(--fill-color);\n",
              "    border-color: transparent;\n",
              "    border-bottom-color: var(--fill-color);\n",
              "    animation:\n",
              "      spin 1s steps(1) infinite;\n",
              "  }\n",
              "\n",
              "  @keyframes spin {\n",
              "    0% {\n",
              "      border-color: transparent;\n",
              "      border-bottom-color: var(--fill-color);\n",
              "      border-left-color: var(--fill-color);\n",
              "    }\n",
              "    20% {\n",
              "      border-color: transparent;\n",
              "      border-left-color: var(--fill-color);\n",
              "      border-top-color: var(--fill-color);\n",
              "    }\n",
              "    30% {\n",
              "      border-color: transparent;\n",
              "      border-left-color: var(--fill-color);\n",
              "      border-top-color: var(--fill-color);\n",
              "      border-right-color: var(--fill-color);\n",
              "    }\n",
              "    40% {\n",
              "      border-color: transparent;\n",
              "      border-right-color: var(--fill-color);\n",
              "      border-top-color: var(--fill-color);\n",
              "    }\n",
              "    60% {\n",
              "      border-color: transparent;\n",
              "      border-right-color: var(--fill-color);\n",
              "    }\n",
              "    80% {\n",
              "      border-color: transparent;\n",
              "      border-right-color: var(--fill-color);\n",
              "      border-bottom-color: var(--fill-color);\n",
              "    }\n",
              "    90% {\n",
              "      border-color: transparent;\n",
              "      border-bottom-color: var(--fill-color);\n",
              "    }\n",
              "  }\n",
              "</style>\n",
              "\n",
              "  <script>\n",
              "    async function quickchart(key) {\n",
              "      const quickchartButtonEl =\n",
              "        document.querySelector('#' + key + ' button');\n",
              "      quickchartButtonEl.disabled = true;  // To prevent multiple clicks.\n",
              "      quickchartButtonEl.classList.add('colab-df-spinner');\n",
              "      try {\n",
              "        const charts = await google.colab.kernel.invokeFunction(\n",
              "            'suggestCharts', [key], {});\n",
              "      } catch (error) {\n",
              "        console.error('Error during call to suggestCharts:', error);\n",
              "      }\n",
              "      quickchartButtonEl.classList.remove('colab-df-spinner');\n",
              "      quickchartButtonEl.classList.add('colab-df-quickchart-complete');\n",
              "    }\n",
              "    (() => {\n",
              "      let quickchartButtonEl =\n",
              "        document.querySelector('#df-6f5ac38c-de72-4fde-9c58-0960fcdece6e button');\n",
              "      quickchartButtonEl.style.display =\n",
              "        google.colab.kernel.accessAllowed ? 'block' : 'none';\n",
              "    })();\n",
              "  </script>\n",
              "</div>\n",
              "\n",
              "    </div>\n",
              "  </div>\n"
            ],
            "application/vnd.google.colaboratory.intrinsic+json": {
              "type": "dataframe",
              "variable_name": "df_viz"
            }
          },
          "metadata": {},
          "execution_count": 11
        }
      ]
    },
    {
      "cell_type": "markdown",
      "source": [
        "Let's focus on 'Education Level', 'Employment Status', 'History of Substance Abuse', 'Physical Activity Level', 'Income' & 'status', 'Dietary Habits', and 'Sleep Patterns'  because i feel it's more generalised that way and can be applied to more people in the larger population"
      ],
      "metadata": {
        "id": "ZXMiqiGwhJtM"
      }
    },
    {
      "cell_type": "code",
      "source": [
        "focus_cols = ['Name','Age','Education Level', 'Employment Status', 'History of Substance Abuse', 'Physical Activity Level', 'Income', 'status', 'Dietary Habits', 'Sleep Patterns']\n",
        "df_use = df_viz[focus_cols]\n",
        "del df_viz\n",
        "df_use.head()"
      ],
      "metadata": {
        "colab": {
          "base_uri": "https://localhost:8080/",
          "height": 276
        },
        "id": "68MjikDqkP6h",
        "outputId": "4131c44c-8834-4b21-e3f0-5327b80e47a2"
      },
      "execution_count": 12,
      "outputs": [
        {
          "output_type": "execute_result",
          "data": {
            "text/plain": [
              "               Name  Age    Education Level Employment Status  \\\n",
              "0  Christine Barker   31  Bachelor's Degree        Unemployed   \n",
              "1  Jacqueline Lewis   55        High School          Employed   \n",
              "2    Shannon Church   78    Master's Degree          Employed   \n",
              "3    Charles Jordan   58    Master's Degree        Unemployed   \n",
              "4      Michael Rich   18        High School        Unemployed   \n",
              "\n",
              "  History of Substance Abuse Physical Activity Level     Income        status  \\\n",
              "0                         No                  Active   26265.67          poor   \n",
              "1                         No               Sedentary   42710.36          poor   \n",
              "2                         No               Sedentary  125332.79  middle_class   \n",
              "3                         No                Moderate    9992.78          poor   \n",
              "4                         No               Sedentary    8595.08          poor   \n",
              "\n",
              "  Dietary Habits Sleep Patterns  \n",
              "0       Moderate           Fair  \n",
              "1      Unhealthy           Fair  \n",
              "2      Unhealthy           Good  \n",
              "3       Moderate           Poor  \n",
              "4       Moderate           Fair  "
            ],
            "text/html": [
              "\n",
              "  <div id=\"df-303ddf72-1bf4-4dd5-9588-5280a66f167d\" class=\"colab-df-container\">\n",
              "    <div>\n",
              "<style scoped>\n",
              "    .dataframe tbody tr th:only-of-type {\n",
              "        vertical-align: middle;\n",
              "    }\n",
              "\n",
              "    .dataframe tbody tr th {\n",
              "        vertical-align: top;\n",
              "    }\n",
              "\n",
              "    .dataframe thead th {\n",
              "        text-align: right;\n",
              "    }\n",
              "</style>\n",
              "<table border=\"1\" class=\"dataframe\">\n",
              "  <thead>\n",
              "    <tr style=\"text-align: right;\">\n",
              "      <th></th>\n",
              "      <th>Name</th>\n",
              "      <th>Age</th>\n",
              "      <th>Education Level</th>\n",
              "      <th>Employment Status</th>\n",
              "      <th>History of Substance Abuse</th>\n",
              "      <th>Physical Activity Level</th>\n",
              "      <th>Income</th>\n",
              "      <th>status</th>\n",
              "      <th>Dietary Habits</th>\n",
              "      <th>Sleep Patterns</th>\n",
              "    </tr>\n",
              "  </thead>\n",
              "  <tbody>\n",
              "    <tr>\n",
              "      <th>0</th>\n",
              "      <td>Christine Barker</td>\n",
              "      <td>31</td>\n",
              "      <td>Bachelor's Degree</td>\n",
              "      <td>Unemployed</td>\n",
              "      <td>No</td>\n",
              "      <td>Active</td>\n",
              "      <td>26265.67</td>\n",
              "      <td>poor</td>\n",
              "      <td>Moderate</td>\n",
              "      <td>Fair</td>\n",
              "    </tr>\n",
              "    <tr>\n",
              "      <th>1</th>\n",
              "      <td>Jacqueline Lewis</td>\n",
              "      <td>55</td>\n",
              "      <td>High School</td>\n",
              "      <td>Employed</td>\n",
              "      <td>No</td>\n",
              "      <td>Sedentary</td>\n",
              "      <td>42710.36</td>\n",
              "      <td>poor</td>\n",
              "      <td>Unhealthy</td>\n",
              "      <td>Fair</td>\n",
              "    </tr>\n",
              "    <tr>\n",
              "      <th>2</th>\n",
              "      <td>Shannon Church</td>\n",
              "      <td>78</td>\n",
              "      <td>Master's Degree</td>\n",
              "      <td>Employed</td>\n",
              "      <td>No</td>\n",
              "      <td>Sedentary</td>\n",
              "      <td>125332.79</td>\n",
              "      <td>middle_class</td>\n",
              "      <td>Unhealthy</td>\n",
              "      <td>Good</td>\n",
              "    </tr>\n",
              "    <tr>\n",
              "      <th>3</th>\n",
              "      <td>Charles Jordan</td>\n",
              "      <td>58</td>\n",
              "      <td>Master's Degree</td>\n",
              "      <td>Unemployed</td>\n",
              "      <td>No</td>\n",
              "      <td>Moderate</td>\n",
              "      <td>9992.78</td>\n",
              "      <td>poor</td>\n",
              "      <td>Moderate</td>\n",
              "      <td>Poor</td>\n",
              "    </tr>\n",
              "    <tr>\n",
              "      <th>4</th>\n",
              "      <td>Michael Rich</td>\n",
              "      <td>18</td>\n",
              "      <td>High School</td>\n",
              "      <td>Unemployed</td>\n",
              "      <td>No</td>\n",
              "      <td>Sedentary</td>\n",
              "      <td>8595.08</td>\n",
              "      <td>poor</td>\n",
              "      <td>Moderate</td>\n",
              "      <td>Fair</td>\n",
              "    </tr>\n",
              "  </tbody>\n",
              "</table>\n",
              "</div>\n",
              "    <div class=\"colab-df-buttons\">\n",
              "\n",
              "  <div class=\"colab-df-container\">\n",
              "    <button class=\"colab-df-convert\" onclick=\"convertToInteractive('df-303ddf72-1bf4-4dd5-9588-5280a66f167d')\"\n",
              "            title=\"Convert this dataframe to an interactive table.\"\n",
              "            style=\"display:none;\">\n",
              "\n",
              "  <svg xmlns=\"http://www.w3.org/2000/svg\" height=\"24px\" viewBox=\"0 -960 960 960\">\n",
              "    <path d=\"M120-120v-720h720v720H120Zm60-500h600v-160H180v160Zm220 220h160v-160H400v160Zm0 220h160v-160H400v160ZM180-400h160v-160H180v160Zm440 0h160v-160H620v160ZM180-180h160v-160H180v160Zm440 0h160v-160H620v160Z\"/>\n",
              "  </svg>\n",
              "    </button>\n",
              "\n",
              "  <style>\n",
              "    .colab-df-container {\n",
              "      display:flex;\n",
              "      gap: 12px;\n",
              "    }\n",
              "\n",
              "    .colab-df-convert {\n",
              "      background-color: #E8F0FE;\n",
              "      border: none;\n",
              "      border-radius: 50%;\n",
              "      cursor: pointer;\n",
              "      display: none;\n",
              "      fill: #1967D2;\n",
              "      height: 32px;\n",
              "      padding: 0 0 0 0;\n",
              "      width: 32px;\n",
              "    }\n",
              "\n",
              "    .colab-df-convert:hover {\n",
              "      background-color: #E2EBFA;\n",
              "      box-shadow: 0px 1px 2px rgba(60, 64, 67, 0.3), 0px 1px 3px 1px rgba(60, 64, 67, 0.15);\n",
              "      fill: #174EA6;\n",
              "    }\n",
              "\n",
              "    .colab-df-buttons div {\n",
              "      margin-bottom: 4px;\n",
              "    }\n",
              "\n",
              "    [theme=dark] .colab-df-convert {\n",
              "      background-color: #3B4455;\n",
              "      fill: #D2E3FC;\n",
              "    }\n",
              "\n",
              "    [theme=dark] .colab-df-convert:hover {\n",
              "      background-color: #434B5C;\n",
              "      box-shadow: 0px 1px 3px 1px rgba(0, 0, 0, 0.15);\n",
              "      filter: drop-shadow(0px 1px 2px rgba(0, 0, 0, 0.3));\n",
              "      fill: #FFFFFF;\n",
              "    }\n",
              "  </style>\n",
              "\n",
              "    <script>\n",
              "      const buttonEl =\n",
              "        document.querySelector('#df-303ddf72-1bf4-4dd5-9588-5280a66f167d button.colab-df-convert');\n",
              "      buttonEl.style.display =\n",
              "        google.colab.kernel.accessAllowed ? 'block' : 'none';\n",
              "\n",
              "      async function convertToInteractive(key) {\n",
              "        const element = document.querySelector('#df-303ddf72-1bf4-4dd5-9588-5280a66f167d');\n",
              "        const dataTable =\n",
              "          await google.colab.kernel.invokeFunction('convertToInteractive',\n",
              "                                                    [key], {});\n",
              "        if (!dataTable) return;\n",
              "\n",
              "        const docLinkHtml = 'Like what you see? Visit the ' +\n",
              "          '<a target=\"_blank\" href=https://colab.research.google.com/notebooks/data_table.ipynb>data table notebook</a>'\n",
              "          + ' to learn more about interactive tables.';\n",
              "        element.innerHTML = '';\n",
              "        dataTable['output_type'] = 'display_data';\n",
              "        await google.colab.output.renderOutput(dataTable, element);\n",
              "        const docLink = document.createElement('div');\n",
              "        docLink.innerHTML = docLinkHtml;\n",
              "        element.appendChild(docLink);\n",
              "      }\n",
              "    </script>\n",
              "  </div>\n",
              "\n",
              "\n",
              "<div id=\"df-9a7076c5-5165-4a4f-8e06-3cc5b537af41\">\n",
              "  <button class=\"colab-df-quickchart\" onclick=\"quickchart('df-9a7076c5-5165-4a4f-8e06-3cc5b537af41')\"\n",
              "            title=\"Suggest charts\"\n",
              "            style=\"display:none;\">\n",
              "\n",
              "<svg xmlns=\"http://www.w3.org/2000/svg\" height=\"24px\"viewBox=\"0 0 24 24\"\n",
              "     width=\"24px\">\n",
              "    <g>\n",
              "        <path d=\"M19 3H5c-1.1 0-2 .9-2 2v14c0 1.1.9 2 2 2h14c1.1 0 2-.9 2-2V5c0-1.1-.9-2-2-2zM9 17H7v-7h2v7zm4 0h-2V7h2v10zm4 0h-2v-4h2v4z\"/>\n",
              "    </g>\n",
              "</svg>\n",
              "  </button>\n",
              "\n",
              "<style>\n",
              "  .colab-df-quickchart {\n",
              "      --bg-color: #E8F0FE;\n",
              "      --fill-color: #1967D2;\n",
              "      --hover-bg-color: #E2EBFA;\n",
              "      --hover-fill-color: #174EA6;\n",
              "      --disabled-fill-color: #AAA;\n",
              "      --disabled-bg-color: #DDD;\n",
              "  }\n",
              "\n",
              "  [theme=dark] .colab-df-quickchart {\n",
              "      --bg-color: #3B4455;\n",
              "      --fill-color: #D2E3FC;\n",
              "      --hover-bg-color: #434B5C;\n",
              "      --hover-fill-color: #FFFFFF;\n",
              "      --disabled-bg-color: #3B4455;\n",
              "      --disabled-fill-color: #666;\n",
              "  }\n",
              "\n",
              "  .colab-df-quickchart {\n",
              "    background-color: var(--bg-color);\n",
              "    border: none;\n",
              "    border-radius: 50%;\n",
              "    cursor: pointer;\n",
              "    display: none;\n",
              "    fill: var(--fill-color);\n",
              "    height: 32px;\n",
              "    padding: 0;\n",
              "    width: 32px;\n",
              "  }\n",
              "\n",
              "  .colab-df-quickchart:hover {\n",
              "    background-color: var(--hover-bg-color);\n",
              "    box-shadow: 0 1px 2px rgba(60, 64, 67, 0.3), 0 1px 3px 1px rgba(60, 64, 67, 0.15);\n",
              "    fill: var(--button-hover-fill-color);\n",
              "  }\n",
              "\n",
              "  .colab-df-quickchart-complete:disabled,\n",
              "  .colab-df-quickchart-complete:disabled:hover {\n",
              "    background-color: var(--disabled-bg-color);\n",
              "    fill: var(--disabled-fill-color);\n",
              "    box-shadow: none;\n",
              "  }\n",
              "\n",
              "  .colab-df-spinner {\n",
              "    border: 2px solid var(--fill-color);\n",
              "    border-color: transparent;\n",
              "    border-bottom-color: var(--fill-color);\n",
              "    animation:\n",
              "      spin 1s steps(1) infinite;\n",
              "  }\n",
              "\n",
              "  @keyframes spin {\n",
              "    0% {\n",
              "      border-color: transparent;\n",
              "      border-bottom-color: var(--fill-color);\n",
              "      border-left-color: var(--fill-color);\n",
              "    }\n",
              "    20% {\n",
              "      border-color: transparent;\n",
              "      border-left-color: var(--fill-color);\n",
              "      border-top-color: var(--fill-color);\n",
              "    }\n",
              "    30% {\n",
              "      border-color: transparent;\n",
              "      border-left-color: var(--fill-color);\n",
              "      border-top-color: var(--fill-color);\n",
              "      border-right-color: var(--fill-color);\n",
              "    }\n",
              "    40% {\n",
              "      border-color: transparent;\n",
              "      border-right-color: var(--fill-color);\n",
              "      border-top-color: var(--fill-color);\n",
              "    }\n",
              "    60% {\n",
              "      border-color: transparent;\n",
              "      border-right-color: var(--fill-color);\n",
              "    }\n",
              "    80% {\n",
              "      border-color: transparent;\n",
              "      border-right-color: var(--fill-color);\n",
              "      border-bottom-color: var(--fill-color);\n",
              "    }\n",
              "    90% {\n",
              "      border-color: transparent;\n",
              "      border-bottom-color: var(--fill-color);\n",
              "    }\n",
              "  }\n",
              "</style>\n",
              "\n",
              "  <script>\n",
              "    async function quickchart(key) {\n",
              "      const quickchartButtonEl =\n",
              "        document.querySelector('#' + key + ' button');\n",
              "      quickchartButtonEl.disabled = true;  // To prevent multiple clicks.\n",
              "      quickchartButtonEl.classList.add('colab-df-spinner');\n",
              "      try {\n",
              "        const charts = await google.colab.kernel.invokeFunction(\n",
              "            'suggestCharts', [key], {});\n",
              "      } catch (error) {\n",
              "        console.error('Error during call to suggestCharts:', error);\n",
              "      }\n",
              "      quickchartButtonEl.classList.remove('colab-df-spinner');\n",
              "      quickchartButtonEl.classList.add('colab-df-quickchart-complete');\n",
              "    }\n",
              "    (() => {\n",
              "      let quickchartButtonEl =\n",
              "        document.querySelector('#df-9a7076c5-5165-4a4f-8e06-3cc5b537af41 button');\n",
              "      quickchartButtonEl.style.display =\n",
              "        google.colab.kernel.accessAllowed ? 'block' : 'none';\n",
              "    })();\n",
              "  </script>\n",
              "</div>\n",
              "\n",
              "    </div>\n",
              "  </div>\n"
            ],
            "application/vnd.google.colaboratory.intrinsic+json": {
              "type": "dataframe",
              "variable_name": "df_use"
            }
          },
          "metadata": {},
          "execution_count": 12
        }
      ]
    },
    {
      "cell_type": "markdown",
      "source": [
        "Let's bin and drop the Age column"
      ],
      "metadata": {
        "id": "I_WHqs4QlaEQ"
      }
    },
    {
      "cell_type": "code",
      "source": [
        "age_bins = np.linspace(min(df_use['Age']), max(df_use['Age']), 4)\n",
        "labels = ['young', 'middle_aged', 'old']\n",
        "df_use['binned_age'] = pd.cut(df_use['Age'], bins=age_bins, labels=labels, include_lowest=True)\n",
        "df_use.drop('Age', axis=1, inplace=True)"
      ],
      "metadata": {
        "id": "SbZquoa9lXyz"
      },
      "execution_count": 13,
      "outputs": []
    },
    {
      "cell_type": "code",
      "source": [
        "df_use.rename(columns={'binned_age': 'Age_bracket'}, inplace=True)\n",
        "df_use.rename(columns={'status': 'Economic_status'}, inplace=True)\n",
        "df_use.head()"
      ],
      "metadata": {
        "colab": {
          "base_uri": "https://localhost:8080/",
          "height": 293
        },
        "id": "s_77BxR3mZY1",
        "outputId": "56229d62-cd86-46e1-8239-ec564d2e81b0"
      },
      "execution_count": 14,
      "outputs": [
        {
          "output_type": "execute_result",
          "data": {
            "text/plain": [
              "               Name    Education Level Employment Status  \\\n",
              "0  Christine Barker  Bachelor's Degree        Unemployed   \n",
              "1  Jacqueline Lewis        High School          Employed   \n",
              "2    Shannon Church    Master's Degree          Employed   \n",
              "3    Charles Jordan    Master's Degree        Unemployed   \n",
              "4      Michael Rich        High School        Unemployed   \n",
              "\n",
              "  History of Substance Abuse Physical Activity Level     Income  \\\n",
              "0                         No                  Active   26265.67   \n",
              "1                         No               Sedentary   42710.36   \n",
              "2                         No               Sedentary  125332.79   \n",
              "3                         No                Moderate    9992.78   \n",
              "4                         No               Sedentary    8595.08   \n",
              "\n",
              "  Economic_status Dietary Habits Sleep Patterns  Age_bracket  \n",
              "0            poor       Moderate           Fair        young  \n",
              "1            poor      Unhealthy           Fair  middle_aged  \n",
              "2    middle_class      Unhealthy           Good          old  \n",
              "3            poor       Moderate           Poor  middle_aged  \n",
              "4            poor       Moderate           Fair        young  "
            ],
            "text/html": [
              "\n",
              "  <div id=\"df-7922cd1b-852f-4a63-b48b-aec1f7dc69bd\" class=\"colab-df-container\">\n",
              "    <div>\n",
              "<style scoped>\n",
              "    .dataframe tbody tr th:only-of-type {\n",
              "        vertical-align: middle;\n",
              "    }\n",
              "\n",
              "    .dataframe tbody tr th {\n",
              "        vertical-align: top;\n",
              "    }\n",
              "\n",
              "    .dataframe thead th {\n",
              "        text-align: right;\n",
              "    }\n",
              "</style>\n",
              "<table border=\"1\" class=\"dataframe\">\n",
              "  <thead>\n",
              "    <tr style=\"text-align: right;\">\n",
              "      <th></th>\n",
              "      <th>Name</th>\n",
              "      <th>Education Level</th>\n",
              "      <th>Employment Status</th>\n",
              "      <th>History of Substance Abuse</th>\n",
              "      <th>Physical Activity Level</th>\n",
              "      <th>Income</th>\n",
              "      <th>Economic_status</th>\n",
              "      <th>Dietary Habits</th>\n",
              "      <th>Sleep Patterns</th>\n",
              "      <th>Age_bracket</th>\n",
              "    </tr>\n",
              "  </thead>\n",
              "  <tbody>\n",
              "    <tr>\n",
              "      <th>0</th>\n",
              "      <td>Christine Barker</td>\n",
              "      <td>Bachelor's Degree</td>\n",
              "      <td>Unemployed</td>\n",
              "      <td>No</td>\n",
              "      <td>Active</td>\n",
              "      <td>26265.67</td>\n",
              "      <td>poor</td>\n",
              "      <td>Moderate</td>\n",
              "      <td>Fair</td>\n",
              "      <td>young</td>\n",
              "    </tr>\n",
              "    <tr>\n",
              "      <th>1</th>\n",
              "      <td>Jacqueline Lewis</td>\n",
              "      <td>High School</td>\n",
              "      <td>Employed</td>\n",
              "      <td>No</td>\n",
              "      <td>Sedentary</td>\n",
              "      <td>42710.36</td>\n",
              "      <td>poor</td>\n",
              "      <td>Unhealthy</td>\n",
              "      <td>Fair</td>\n",
              "      <td>middle_aged</td>\n",
              "    </tr>\n",
              "    <tr>\n",
              "      <th>2</th>\n",
              "      <td>Shannon Church</td>\n",
              "      <td>Master's Degree</td>\n",
              "      <td>Employed</td>\n",
              "      <td>No</td>\n",
              "      <td>Sedentary</td>\n",
              "      <td>125332.79</td>\n",
              "      <td>middle_class</td>\n",
              "      <td>Unhealthy</td>\n",
              "      <td>Good</td>\n",
              "      <td>old</td>\n",
              "    </tr>\n",
              "    <tr>\n",
              "      <th>3</th>\n",
              "      <td>Charles Jordan</td>\n",
              "      <td>Master's Degree</td>\n",
              "      <td>Unemployed</td>\n",
              "      <td>No</td>\n",
              "      <td>Moderate</td>\n",
              "      <td>9992.78</td>\n",
              "      <td>poor</td>\n",
              "      <td>Moderate</td>\n",
              "      <td>Poor</td>\n",
              "      <td>middle_aged</td>\n",
              "    </tr>\n",
              "    <tr>\n",
              "      <th>4</th>\n",
              "      <td>Michael Rich</td>\n",
              "      <td>High School</td>\n",
              "      <td>Unemployed</td>\n",
              "      <td>No</td>\n",
              "      <td>Sedentary</td>\n",
              "      <td>8595.08</td>\n",
              "      <td>poor</td>\n",
              "      <td>Moderate</td>\n",
              "      <td>Fair</td>\n",
              "      <td>young</td>\n",
              "    </tr>\n",
              "  </tbody>\n",
              "</table>\n",
              "</div>\n",
              "    <div class=\"colab-df-buttons\">\n",
              "\n",
              "  <div class=\"colab-df-container\">\n",
              "    <button class=\"colab-df-convert\" onclick=\"convertToInteractive('df-7922cd1b-852f-4a63-b48b-aec1f7dc69bd')\"\n",
              "            title=\"Convert this dataframe to an interactive table.\"\n",
              "            style=\"display:none;\">\n",
              "\n",
              "  <svg xmlns=\"http://www.w3.org/2000/svg\" height=\"24px\" viewBox=\"0 -960 960 960\">\n",
              "    <path d=\"M120-120v-720h720v720H120Zm60-500h600v-160H180v160Zm220 220h160v-160H400v160Zm0 220h160v-160H400v160ZM180-400h160v-160H180v160Zm440 0h160v-160H620v160ZM180-180h160v-160H180v160Zm440 0h160v-160H620v160Z\"/>\n",
              "  </svg>\n",
              "    </button>\n",
              "\n",
              "  <style>\n",
              "    .colab-df-container {\n",
              "      display:flex;\n",
              "      gap: 12px;\n",
              "    }\n",
              "\n",
              "    .colab-df-convert {\n",
              "      background-color: #E8F0FE;\n",
              "      border: none;\n",
              "      border-radius: 50%;\n",
              "      cursor: pointer;\n",
              "      display: none;\n",
              "      fill: #1967D2;\n",
              "      height: 32px;\n",
              "      padding: 0 0 0 0;\n",
              "      width: 32px;\n",
              "    }\n",
              "\n",
              "    .colab-df-convert:hover {\n",
              "      background-color: #E2EBFA;\n",
              "      box-shadow: 0px 1px 2px rgba(60, 64, 67, 0.3), 0px 1px 3px 1px rgba(60, 64, 67, 0.15);\n",
              "      fill: #174EA6;\n",
              "    }\n",
              "\n",
              "    .colab-df-buttons div {\n",
              "      margin-bottom: 4px;\n",
              "    }\n",
              "\n",
              "    [theme=dark] .colab-df-convert {\n",
              "      background-color: #3B4455;\n",
              "      fill: #D2E3FC;\n",
              "    }\n",
              "\n",
              "    [theme=dark] .colab-df-convert:hover {\n",
              "      background-color: #434B5C;\n",
              "      box-shadow: 0px 1px 3px 1px rgba(0, 0, 0, 0.15);\n",
              "      filter: drop-shadow(0px 1px 2px rgba(0, 0, 0, 0.3));\n",
              "      fill: #FFFFFF;\n",
              "    }\n",
              "  </style>\n",
              "\n",
              "    <script>\n",
              "      const buttonEl =\n",
              "        document.querySelector('#df-7922cd1b-852f-4a63-b48b-aec1f7dc69bd button.colab-df-convert');\n",
              "      buttonEl.style.display =\n",
              "        google.colab.kernel.accessAllowed ? 'block' : 'none';\n",
              "\n",
              "      async function convertToInteractive(key) {\n",
              "        const element = document.querySelector('#df-7922cd1b-852f-4a63-b48b-aec1f7dc69bd');\n",
              "        const dataTable =\n",
              "          await google.colab.kernel.invokeFunction('convertToInteractive',\n",
              "                                                    [key], {});\n",
              "        if (!dataTable) return;\n",
              "\n",
              "        const docLinkHtml = 'Like what you see? Visit the ' +\n",
              "          '<a target=\"_blank\" href=https://colab.research.google.com/notebooks/data_table.ipynb>data table notebook</a>'\n",
              "          + ' to learn more about interactive tables.';\n",
              "        element.innerHTML = '';\n",
              "        dataTable['output_type'] = 'display_data';\n",
              "        await google.colab.output.renderOutput(dataTable, element);\n",
              "        const docLink = document.createElement('div');\n",
              "        docLink.innerHTML = docLinkHtml;\n",
              "        element.appendChild(docLink);\n",
              "      }\n",
              "    </script>\n",
              "  </div>\n",
              "\n",
              "\n",
              "<div id=\"df-67c8fa39-fb39-48a1-962b-ec0ce120b116\">\n",
              "  <button class=\"colab-df-quickchart\" onclick=\"quickchart('df-67c8fa39-fb39-48a1-962b-ec0ce120b116')\"\n",
              "            title=\"Suggest charts\"\n",
              "            style=\"display:none;\">\n",
              "\n",
              "<svg xmlns=\"http://www.w3.org/2000/svg\" height=\"24px\"viewBox=\"0 0 24 24\"\n",
              "     width=\"24px\">\n",
              "    <g>\n",
              "        <path d=\"M19 3H5c-1.1 0-2 .9-2 2v14c0 1.1.9 2 2 2h14c1.1 0 2-.9 2-2V5c0-1.1-.9-2-2-2zM9 17H7v-7h2v7zm4 0h-2V7h2v10zm4 0h-2v-4h2v4z\"/>\n",
              "    </g>\n",
              "</svg>\n",
              "  </button>\n",
              "\n",
              "<style>\n",
              "  .colab-df-quickchart {\n",
              "      --bg-color: #E8F0FE;\n",
              "      --fill-color: #1967D2;\n",
              "      --hover-bg-color: #E2EBFA;\n",
              "      --hover-fill-color: #174EA6;\n",
              "      --disabled-fill-color: #AAA;\n",
              "      --disabled-bg-color: #DDD;\n",
              "  }\n",
              "\n",
              "  [theme=dark] .colab-df-quickchart {\n",
              "      --bg-color: #3B4455;\n",
              "      --fill-color: #D2E3FC;\n",
              "      --hover-bg-color: #434B5C;\n",
              "      --hover-fill-color: #FFFFFF;\n",
              "      --disabled-bg-color: #3B4455;\n",
              "      --disabled-fill-color: #666;\n",
              "  }\n",
              "\n",
              "  .colab-df-quickchart {\n",
              "    background-color: var(--bg-color);\n",
              "    border: none;\n",
              "    border-radius: 50%;\n",
              "    cursor: pointer;\n",
              "    display: none;\n",
              "    fill: var(--fill-color);\n",
              "    height: 32px;\n",
              "    padding: 0;\n",
              "    width: 32px;\n",
              "  }\n",
              "\n",
              "  .colab-df-quickchart:hover {\n",
              "    background-color: var(--hover-bg-color);\n",
              "    box-shadow: 0 1px 2px rgba(60, 64, 67, 0.3), 0 1px 3px 1px rgba(60, 64, 67, 0.15);\n",
              "    fill: var(--button-hover-fill-color);\n",
              "  }\n",
              "\n",
              "  .colab-df-quickchart-complete:disabled,\n",
              "  .colab-df-quickchart-complete:disabled:hover {\n",
              "    background-color: var(--disabled-bg-color);\n",
              "    fill: var(--disabled-fill-color);\n",
              "    box-shadow: none;\n",
              "  }\n",
              "\n",
              "  .colab-df-spinner {\n",
              "    border: 2px solid var(--fill-color);\n",
              "    border-color: transparent;\n",
              "    border-bottom-color: var(--fill-color);\n",
              "    animation:\n",
              "      spin 1s steps(1) infinite;\n",
              "  }\n",
              "\n",
              "  @keyframes spin {\n",
              "    0% {\n",
              "      border-color: transparent;\n",
              "      border-bottom-color: var(--fill-color);\n",
              "      border-left-color: var(--fill-color);\n",
              "    }\n",
              "    20% {\n",
              "      border-color: transparent;\n",
              "      border-left-color: var(--fill-color);\n",
              "      border-top-color: var(--fill-color);\n",
              "    }\n",
              "    30% {\n",
              "      border-color: transparent;\n",
              "      border-left-color: var(--fill-color);\n",
              "      border-top-color: var(--fill-color);\n",
              "      border-right-color: var(--fill-color);\n",
              "    }\n",
              "    40% {\n",
              "      border-color: transparent;\n",
              "      border-right-color: var(--fill-color);\n",
              "      border-top-color: var(--fill-color);\n",
              "    }\n",
              "    60% {\n",
              "      border-color: transparent;\n",
              "      border-right-color: var(--fill-color);\n",
              "    }\n",
              "    80% {\n",
              "      border-color: transparent;\n",
              "      border-right-color: var(--fill-color);\n",
              "      border-bottom-color: var(--fill-color);\n",
              "    }\n",
              "    90% {\n",
              "      border-color: transparent;\n",
              "      border-bottom-color: var(--fill-color);\n",
              "    }\n",
              "  }\n",
              "</style>\n",
              "\n",
              "  <script>\n",
              "    async function quickchart(key) {\n",
              "      const quickchartButtonEl =\n",
              "        document.querySelector('#' + key + ' button');\n",
              "      quickchartButtonEl.disabled = true;  // To prevent multiple clicks.\n",
              "      quickchartButtonEl.classList.add('colab-df-spinner');\n",
              "      try {\n",
              "        const charts = await google.colab.kernel.invokeFunction(\n",
              "            'suggestCharts', [key], {});\n",
              "      } catch (error) {\n",
              "        console.error('Error during call to suggestCharts:', error);\n",
              "      }\n",
              "      quickchartButtonEl.classList.remove('colab-df-spinner');\n",
              "      quickchartButtonEl.classList.add('colab-df-quickchart-complete');\n",
              "    }\n",
              "    (() => {\n",
              "      let quickchartButtonEl =\n",
              "        document.querySelector('#df-67c8fa39-fb39-48a1-962b-ec0ce120b116 button');\n",
              "      quickchartButtonEl.style.display =\n",
              "        google.colab.kernel.accessAllowed ? 'block' : 'none';\n",
              "    })();\n",
              "  </script>\n",
              "</div>\n",
              "\n",
              "    </div>\n",
              "  </div>\n"
            ],
            "application/vnd.google.colaboratory.intrinsic+json": {
              "type": "dataframe",
              "variable_name": "df_use"
            }
          },
          "metadata": {},
          "execution_count": 14
        }
      ]
    },
    {
      "cell_type": "markdown",
      "source": [
        "We have a perferct dataset for visualiztions. We'll come back to this in like an hour, let my brain cool down a bit and come up with ideas on what to find out about...After much delibrattion, I have decided to use sql in transforming the dataset for each visualiztions to showcase my skills. Let's start by downloading and importing Pandasql."
      ],
      "metadata": {
        "id": "ruiXUH1xoOJu"
      }
    },
    {
      "cell_type": "code",
      "source": [
        "!pip install pandasql\n",
        "import pandasql as psql"
      ],
      "metadata": {
        "colab": {
          "base_uri": "https://localhost:8080/"
        },
        "id": "iwbpyQ3nmzbj",
        "outputId": "ed2e321e-c86e-414c-ec2e-c9821a301ff6"
      },
      "execution_count": 15,
      "outputs": [
        {
          "output_type": "stream",
          "name": "stdout",
          "text": [
            "Collecting pandasql\n",
            "  Downloading pandasql-0.7.3.tar.gz (26 kB)\n",
            "  Preparing metadata (setup.py) ... \u001b[?25l\u001b[?25hdone\n",
            "Requirement already satisfied: numpy in /usr/local/lib/python3.10/dist-packages (from pandasql) (1.26.4)\n",
            "Requirement already satisfied: pandas in /usr/local/lib/python3.10/dist-packages (from pandasql) (2.1.4)\n",
            "Requirement already satisfied: sqlalchemy in /usr/local/lib/python3.10/dist-packages (from pandasql) (2.0.32)\n",
            "Requirement already satisfied: python-dateutil>=2.8.2 in /usr/local/lib/python3.10/dist-packages (from pandas->pandasql) (2.8.2)\n",
            "Requirement already satisfied: pytz>=2020.1 in /usr/local/lib/python3.10/dist-packages (from pandas->pandasql) (2024.1)\n",
            "Requirement already satisfied: tzdata>=2022.1 in /usr/local/lib/python3.10/dist-packages (from pandas->pandasql) (2024.1)\n",
            "Requirement already satisfied: typing-extensions>=4.6.0 in /usr/local/lib/python3.10/dist-packages (from sqlalchemy->pandasql) (4.12.2)\n",
            "Requirement already satisfied: greenlet!=0.4.17 in /usr/local/lib/python3.10/dist-packages (from sqlalchemy->pandasql) (3.0.3)\n",
            "Requirement already satisfied: six>=1.5 in /usr/local/lib/python3.10/dist-packages (from python-dateutil>=2.8.2->pandas->pandasql) (1.16.0)\n",
            "Building wheels for collected packages: pandasql\n",
            "  Building wheel for pandasql (setup.py) ... \u001b[?25l\u001b[?25hdone\n",
            "  Created wheel for pandasql: filename=pandasql-0.7.3-py3-none-any.whl size=26772 sha256=40a8ee798d8022fae7f6d5b2b1cde3c86737a416675b2cf52b47cf3d420b1aa1\n",
            "  Stored in directory: /root/.cache/pip/wheels/e9/bc/3a/8434bdcccf5779e72894a9b24fecbdcaf97940607eaf4bcdf9\n",
            "Successfully built pandasql\n",
            "Installing collected packages: pandasql\n",
            "Successfully installed pandasql-0.7.3\n"
          ]
        }
      ]
    },
    {
      "cell_type": "markdown",
      "source": [
        "Hmm let's find out just how many people in each education categories are depressed."
      ],
      "metadata": {
        "id": "HTBzPZT2Db1b"
      }
    },
    {
      "cell_type": "code",
      "source": [
        "query1 = \"\"\"\n",
        "SELECT \"Education Level\", COUNT(\"Education Level\") AS \"Number of People\"\n",
        "FROM df_use\n",
        "GROUP BY \"Education Level\"\n",
        "\"\"\"\n",
        "result1 = psql.sqldf(query1, globals())\n",
        "print(result1)"
      ],
      "metadata": {
        "colab": {
          "base_uri": "https://localhost:8080/"
        },
        "id": "97RWJz98EuzQ",
        "outputId": "79a465c3-68dd-41ec-d700-afb8faef251d"
      },
      "execution_count": 16,
      "outputs": [
        {
          "output_type": "stream",
          "name": "stdout",
          "text": [
            "     Education Level  Number of People\n",
            "0   Associate Degree             79999\n",
            "1  Bachelor's Degree            124329\n",
            "2        High School            118927\n",
            "3    Master's Degree             73768\n",
            "4                PhD             16745\n"
          ]
        }
      ]
    },
    {
      "cell_type": "markdown",
      "source": [
        "Let's Plot\n"
      ],
      "metadata": {
        "id": "zwpusuJ4Q7ul"
      }
    },
    {
      "cell_type": "code",
      "source": [
        "plt.figure(figsize=(8, 6))\n",
        "sns.barplot(x='Education Level', y='Number of People', data=result1)\n",
        "plt.title('Number of People in Each Education Category')\n",
        "plt.xlabel('Education Level')"
      ],
      "metadata": {
        "colab": {
          "base_uri": "https://localhost:8080/",
          "height": 581
        },
        "id": "k1mUyuLRQ_3G",
        "outputId": "ffd9f111-9195-48c5-d4b8-e889907148f2"
      },
      "execution_count": 17,
      "outputs": [
        {
          "output_type": "execute_result",
          "data": {
            "text/plain": [
              "Text(0.5, 0, 'Education Level')"
            ]
          },
          "metadata": {},
          "execution_count": 17
        },
        {
          "output_type": "display_data",
          "data": {
            "text/plain": [
              "<Figure size 800x600 with 1 Axes>"
            ],
            "image/png": "[encoded data removed]"
          },
          "metadata": {}
        }
      ]
    },
    {
      "cell_type": "markdown",
      "source": [
        "So the most depressed people either have a High School or Bachelor's degree. My hypothesis on the reasin for this observation will be that these people are just stumbling into the economic world and job market for the first time (Just like me). But I don't have the resources to confirm this hypothesis and thus won't be investigating this further for now."
      ],
      "metadata": {
        "id": "6z2gmCRrRTC5"
      }
    },
    {
      "cell_type": "markdown",
      "source": [
        "Let's look at how many of this people are into substance abuse"
      ],
      "metadata": {
        "id": "uzhxmRNaSg_l"
      }
    },
    {
      "cell_type": "code",
      "source": [
        "query2 = \"\"\"\n",
        "SELECT \"Education Level\", COUNT(*) AS \"Number of People\", \"History of Substance Abuse\"\n",
        "FROM df_use\n",
        "GROUP BY \"Education Level\", \"History of Substance Abuse\"\n",
        "\"\"\"\n",
        "result2 = psql.sqldf(query2, globals())\n",
        "print(result2)"
      ],
      "metadata": {
        "colab": {
          "base_uri": "https://localhost:8080/"
        },
        "id": "MOg8IeprSuKx",
        "outputId": "61477e21-7499-4dda-9701-98a2f6713836"
      },
      "execution_count": 18,
      "outputs": [
        {
          "output_type": "stream",
          "name": "stdout",
          "text": [
            "     Education Level  Number of People History of Substance Abuse\n",
            "0   Associate Degree             55148                         No\n",
            "1   Associate Degree             24851                        Yes\n",
            "2  Bachelor's Degree             85837                         No\n",
            "3  Bachelor's Degree             38492                        Yes\n",
            "4        High School             81447                         No\n",
            "5        High School             37480                        Yes\n",
            "6    Master's Degree             50859                         No\n",
            "7    Master's Degree             22909                        Yes\n",
            "8                PhD             11589                         No\n",
            "9                PhD              5156                        Yes\n"
          ]
        }
      ]
    },
    {
      "cell_type": "markdown",
      "source": [
        "Let's visualize this\n"
      ],
      "metadata": {
        "id": "mtMUnUNQmgx0"
      }
    },
    {
      "cell_type": "code",
      "source": [
        "plt.figure(figsize=(8, 6))\n",
        "sns.barplot(x='Education Level', y='Number of People', hue='History of Substance Abuse', data=result2)\n",
        "plt.title('Number of People in Each Education Category')\n",
        "plt"
      ],
      "metadata": {
        "colab": {
          "base_uri": "https://localhost:8080/",
          "height": 581
        },
        "id": "U3bDhvzhmkfQ",
        "outputId": "04c81720-5d75-4b2f-c810-152203bbb5e2"
      },
      "execution_count": 19,
      "outputs": [
        {
          "output_type": "execute_result",
          "data": {
            "text/plain": [
              "<module 'matplotlib.pyplot' from '/usr/local/lib/python3.10/dist-packages/matplotlib/pyplot.py'>"
            ]
          },
          "metadata": {},
          "execution_count": 19
        },
        {
          "output_type": "display_data",
          "data": {
            "text/plain": [
              "<Figure size 800x600 with 1 Axes>"
            ],
            "image/png": "[encoded data removed]"
          },
          "metadata": {}
        }
      ]
    },
    {
      "cell_type": "markdown",
      "source": [
        "Unexpectedly, the depressed population isn't dominated by substance abusers. This could mean that substance abuse is more a consequence than a cause of depression in the population."
      ],
      "metadata": {
        "id": "8Ra_iJmhx4Un"
      }
    },
    {
      "cell_type": "markdown",
      "source": [
        "Let's focus on the dietary habits of the population\n"
      ],
      "metadata": {
        "id": "PNTBJI2Lys1U"
      }
    },
    {
      "cell_type": "code",
      "source": [
        "query3 = \"\"\"\n",
        "SELECT \"Dietary Habits\", COUNT(*) AS \"Number of People\"\n",
        "FROM df_use\n",
        "GROUP BY \"Dietary Habits\"\n",
        "\"\"\"\n",
        "result3 = psql.sqldf(query3, globals())\n",
        "print(result3)"
      ],
      "metadata": {
        "colab": {
          "base_uri": "https://localhost:8080/"
        },
        "id": "M7wdfPSay5CJ",
        "outputId": "f9a4a51a-4f11-4ab0-94d9-359539839a05"
      },
      "execution_count": 20,
      "outputs": [
        {
          "output_type": "stream",
          "name": "stdout",
          "text": [
            "  Dietary Habits  Number of People\n",
            "0        Healthy             72505\n",
            "1       Moderate            170446\n",
            "2      Unhealthy            170817\n"
          ]
        }
      ]
    },
    {
      "cell_type": "markdown",
      "source": [
        "Let's Visualize"
      ],
      "metadata": {
        "id": "xpf88DFCzzkK"
      }
    },
    {
      "cell_type": "code",
      "source": [
        "plt.figure(figsize=(8, 6))\n",
        "sns.barplot(x='Dietary Habits', y='Number of People', data=result3)\n",
        "plt.title('Number of People in Each Dietary Habit Category')\n",
        "plt.xlabel('Dietary Habit')"
      ],
      "metadata": {
        "colab": {
          "base_uri": "https://localhost:8080/",
          "height": 581
        },
        "id": "xnEiHLFNz4tt",
        "outputId": "3712788f-f740-4041-e690-bcda5cbcf41f"
      },
      "execution_count": 21,
      "outputs": [
        {
          "output_type": "execute_result",
          "data": {
            "text/plain": [
              "Text(0.5, 0, 'Dietary Habit')"
            ]
          },
          "metadata": {},
          "execution_count": 21
        },
        {
          "output_type": "display_data",
          "data": {
            "text/plain": [
              "<Figure size 800x600 with 1 Axes>"
            ],
            "image/png": "[encoded data removed]"
          },
          "metadata": {}
        }
      ]
    },
    {
      "cell_type": "markdown",
      "source": [
        "Clearly, people who don't eat a proper balanced diet tend to be more depressed. Please follow your doctor's recommendation and eat a healthy balanced diet."
      ],
      "metadata": {
        "id": "G8nhTURn0irp"
      }
    },
    {
      "cell_type": "markdown",
      "source": [
        "We've been avoiding something called \"finances\", which could help support my hypothesis of the economics and job market having an effect on depressed feelings of the population.\n",
        "\n"
      ],
      "metadata": {
        "id": "fS9LHzaO_9Bm"
      }
    },
    {
      "cell_type": "code",
      "source": [
        "query4 = \"\"\"\n",
        "SELECT \"Economic_status\", AVG(Income) AS Income, COUNT(*) AS \"Number of People\"\n",
        "FROM df_use\n",
        "GROUP BY \"Economic_status\"\n",
        "\"\"\"\n",
        "result4 = psql.sqldf(query4, globals())\n",
        "print(result4)"
      ],
      "metadata": {
        "id": "A6I5_A0c0dj0",
        "colab": {
          "base_uri": "https://localhost:8080/"
        },
        "outputId": "89cefe85-f2de-4b98-e3a2-8e05c232a748"
      },
      "execution_count": 22,
      "outputs": [
        {
          "output_type": "stream",
          "name": "stdout",
          "text": [
            "  Economic_status         Income  Number of People\n",
            "0    middle_class   97853.583663             96515\n",
            "1            poor   29440.151269            300522\n",
            "2            rich  159610.412821             16731\n"
          ]
        }
      ]
    },
    {
      "cell_type": "markdown",
      "source": [
        "Let's put this on a graph sheet"
      ],
      "metadata": {
        "id": "4wE5YE-gXE_q"
      }
    },
    {
      "cell_type": "code",
      "source": [
        "plt.figure(figsize=(8, 6))\n",
        "# sns.lineplot(x='Number of People', y='Income', hue = 'Economic_status',data=result4)\n",
        "sns.barplot(x='Economic_status', y='Number of People', data=result4)\n",
        "plt.title('Number of People in Each Economic Status Category')\n",
        "plt.xlabel('Economic Status')\n",
        "plt.ylabel('Number of People')\n",
        "plt.show()\n",
        "# result4.dtypes"
      ],
      "metadata": {
        "colab": {
          "base_uri": "https://localhost:8080/",
          "height": 564
        },
        "id": "dtAbAgCMXQJ7",
        "outputId": "f0026609-99ea-4c0f-bc03-87bc0d2a29a6"
      },
      "execution_count": 23,
      "outputs": [
        {
          "output_type": "display_data",
          "data": {
            "text/plain": [
              "<Figure size 800x600 with 1 Axes>"
            ],
            "image/png": "[encoded data removed]"
          },
          "metadata": {}
        }
      ]
    },
    {
      "cell_type": "markdown",
      "source": [
        "I am not completely sure but I can confidently say that alot of people are depressed because they are overwhelmed by their personal finances. Which is affected by the economic situation and job market generally."
      ],
      "metadata": {
        "id": "OL1EAd-_ciDM"
      }
    },
    {
      "cell_type": "markdown",
      "source": [
        "###THINGS TO IMPROVE ON BEFORE THE NEXT PROJECT###\n",
        "* Planning & Goal setting.\n",
        "  + what is the objective of the project\n",
        "  + what are the requirements needed to meet that objective\n",
        "* Understaning the dataset better.\n",
        "  + what each column is about or means\n",
        "  + what kind of dataset your working with\n",
        "  + relationship the columns in the datasets have with each other\n",
        "  + the kind of values stored in each attributes/columns\n",
        "* Knowing the libraries I will need to use before hand.\n",
        "  + get a list of the libraries needed for working with the dataset in python\n",
        "  + ensure these libraries are installed and ready to go\n",
        "* keep a schedule of the process for the duration of the project"
      ],
      "metadata": {
        "id": "4psjADQOoF9f"
      }
    }
  ]
}